{
 "cells": [
  {
   "cell_type": "code",
   "execution_count": null,
   "metadata": {
    "collapsed": true
   },
   "outputs": [],
   "source": [
    "#Function occupancyChecker checks if a smooth path runs through an occupied space and returns the location of occurance\n",
    "#Assumptions\n",
    "# An occupancy function exists that is called as follows occpied = occupancyFunc(x,y,z)\n",
    "# Path is in absolute reference frame\n",
    "# Solution has coefficient vectors of the same length\n",
    "#Inputs/Needed Variables\n",
    "# solution - an object containing points, and times related to path solution\n",
    "# occupancyFunc - occpied = occupancyFunc(x,y,z) where occupied is either a bool and x, y, z are positions of the path\n",
    "# grid_resx - the resolution of the grid in the x direction\n",
    "# grid_resy - the resolution of the grid in the y direction\n",
    "# grid_resz - the resolution of the grid in the z direction\n",
    "# dim - the dimension of the path to be checked\n",
    "# aggressParam - a parameter of how aggressive to check a path (0,infty), Closer to 0 means check every point on the path, Closer to infinity => check no points\n",
    "# coeffMat - hold coefficients and allows for looping and selection\n",
    "#Outputs/Things to Find\n",
    "# did_pass - a boolean that is true when the path doesn't hit anything\n",
    "# timeHit - the time when the path goes through occupied space\n",
    "# pointsBetweem - a vector of the points between which the occupation collision occurs\n",
    "\n",
    "#Read in the coefficients into a matrix\n",
    "coeffMat = [solution.x_coeffs; solution.y_coeffs; solution.z_coeffs];\n",
    "#Initialize/read in the resolution variables\n",
    "grid_resx = 0.05;\n",
    "grid_resy = 0.05;\n",
    "grid_resz = 0.05;\n",
    "#Calculate the distance time to travel in each direction before checking occupancy using 1st order taylor series approximation\n",
    "#Loop for 2 or 3 dimensions if dim >3\n",
    "#evaluate the polynomial first direvative at current time\n",
    "#find the required delta_t's needed to go the set distance before checking occupancy\n",
    "#determine the smallest one\n",
    "#move the smallest one, and decrease the delta t's for the others\n",
    "#evaluate occupancy at current point\n",
    "#evaluate the new delta_t for the dimension\n",
    "#Check if at the past the end time and while loop if not passed it\n",
    "#determine the smallest one\n",
    "#move the smallest one, and decrease the delta t's for the others\n",
    "#evaluate occupancy at current point\n",
    "#if occupancy is one break the loop\n",
    "#evaluate the new delta_t for the dimension\n",
    "#Out of loop check if current time is at or above the final time\n",
    "#If not find the nearest points forward and backward\n",
    "#return the points in hopes that a point will be added between the returned points\n",
    "#Loop though the dimension passed\n"
   ]
  }
 ],
 "metadata": {
  "anaconda-cloud": {},
  "kernelspec": {
   "display_name": "Julia 0.5.0",
   "language": "julia",
   "name": "julia-0.5"
  },
  "language_info": {
   "file_extension": ".jl",
   "mimetype": "application/julia",
   "name": "julia",
   "version": "0.5.0"
  }
 },
 "nbformat": 4,
 "nbformat_minor": 0
}
