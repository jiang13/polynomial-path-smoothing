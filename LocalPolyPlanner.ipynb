{
 "cells": [
  {
   "cell_type": "code",
   "execution_count": 4,
   "metadata": {
    "collapsed": false
   },
   "outputs": [
    {
     "ename": "LoadError",
     "evalue": "LoadError: syntax: missing comma or } in argument list\nwhile loading In[4], in expression starting on line 5",
     "output_type": "error",
     "traceback": [
      "LoadError: syntax: missing comma or } in argument list\nwhile loading In[4], in expression starting on line 5",
      ""
     ]
    }
   ],
   "source": [
    "#Define the BaseLocalPlanner object\n",
    "class BaseLocalPlanner{ #Change to class\n",
    "    public:\n",
    "        bool computeVelocityCommands(cmd_vels::Vector{Float64}); #This will be the twist object\n",
    "        void initialize(name::String, transfromPointer, costmap); # The second variable is a tf::TransfomListener*, costmap_2d::Costmap2DROS*\n",
    "        bool isGoalReached();\n",
    "        bool setPlan(path) #input is a constant vector of PoseStamped objects - gives times and positions\n",
    "        ~BaseLocalPlanner();\n",
    "    private:\n",
    "        BaseLocalPlanner();        \n",
    "}"
   ]
  },
  {
   "cell_type": "code",
   "execution_count": null,
   "metadata": {
    "collapsed": false
   },
   "outputs": [],
   "source": [
    "#Function polyPathLocal creates a nth order polynomial to be fit and optimized between the current copter configuration\n",
    "# and a configuration on the global plan.\n",
    "#Assumptions\n",
    "# Default global path to plan to is Dijkstras\n",
    "#Inputs\n",
    "# Odometry.msg containing\n",
    "#  current_Position - the current position of the robot, an object with x, y, and z points\n",
    "#  current_Quaternion - the current orientation of the robot based on quaternions\n",
    "#  current_Velocity - a vector of current velocities of the robot\n",
    "#  current_YawRate - a value of yaw rate\n",
    "# Path.msg either containing or providing\n",
    "#  desired_Positions - an array of positions x,y,z, yaw = p\n",
    "#  desired_Velocities - the end velocities for x,y,z,p\n",
    "#  desired_Acceleration - the end accelerations for x,y,z,p\n",
    "# flagFMT - a boolean that is true to indicate a computation assuming FMT global plan\n",
    "# costMap - an array of cost values from 0-255\n",
    "#Outputs\n",
    "# Path.msg containing\n",
    "#  path - an array of positions\n",
    "#  timeStamps - an array of times corresponding to each position in the path\n",
    "#  \n",
    "\n"
   ]
  },
  {
   "cell_type": "code",
   "execution_count": null,
   "metadata": {
    "collapsed": true
   },
   "outputs": [],
   "source": [
    "#Function computeVelocityCommands will compute the velocity commands to send to the base given current position, orientation\n",
    "# and velocity\n",
    "#Inputs\n",
    "# \n",
    "#Outputs\n",
    "# \n",
    "function computeVelocityCommands(cmd_vels::Vector{Float64})\n",
    "    \n",
    "    \n",
    "end"
   ]
  },
  {
   "cell_type": "code",
   "execution_count": null,
   "metadata": {
    "collapsed": true
   },
   "outputs": [],
   "source": [
    "#Function initialize constructs the local planner\n",
    "#Inputs\n",
    "# name - the name to give this instance of the local planner\n",
    "# tf - a pointer to a transform listener\n",
    "# costmap_ros - the cost map to use for assignning costs to local plans\n",
    "#Outputs\n",
    "# Nothing\n",
    "function initialize(name::String, tf, costmap)\n",
    "    #Set name of the object to name\n",
    "    #Set the tf\n",
    "#Outputs\n",
    "# \n",
    "function isGoalReached()\n",
    "    \n",
    "    #Read in costmap from global centered around robot\n",
    "end"
   ]
  },
  {
   "cell_type": "code",
   "execution_count": null,
   "metadata": {
    "collapsed": true
   },
   "outputs": [],
   "source": [
    "#Function isGoalReached checks if the goals has been reached\n",
    "#Inputs\n",
    "# \n",
    "#Outputs\n",
    "# \n",
    "function isGoalReached()\n",
    "    \n",
    "    \n",
    "end"
   ]
  },
  {
   "cell_type": "code",
   "execution_count": 165,
   "metadata": {
    "collapsed": false
   },
   "outputs": [
    {
     "data": {
      "text/plain": [
       "setPlan (generic function with 1 method)"
      ]
     },
     "execution_count": 165,
     "metadata": {},
     "output_type": "execute_result"
    }
   ],
   "source": [
    "#Function setPlan sets the plan that the local planner is following\n",
    "#Inputs\n",
    "# \n",
    "#Outputs\n",
    "# \n",
    "function setPlan(path)\n",
    "    \n",
    "    \n",
    "end"
   ]
  },
  {
   "cell_type": "code",
   "execution_count": 731,
   "metadata": {
    "collapsed": false
   },
   "outputs": [
    {
     "name": "stderr",
     "output_type": "stream",
     "text": [
      "WARNING: Method definition (::Type{Main."
     ]
    },
    {
     "data": {
      "text/plain": [
       "get_grid_resolution (generic function with 1 method)"
      ]
     },
     "execution_count": 731,
     "metadata": {},
     "output_type": "execute_result"
    },
    {
     "name": "stderr",
     "output_type": "stream",
     "text": [
      "Point})(Float64, Float64, Float64, Float64) in module Main at C:\\Users\\tmurphy10\\Documents\\ShieldAi\\polynomial-path-smoothing\\FunctionsHelper.jl:6 overwritten at C:\\Users\\tmurphy10\\Documents\\ShieldAi\\polynomial-path-smoothing\\FunctionsHelper.jl:6.\n",
      "WARNING: Method definition (::Type{Main.Point})(Any, Any, Any, Any) in module Main at C:\\Users\\tmurphy10\\Documents\\ShieldAi\\polynomial-path-smoothing\\FunctionsHelper.jl:6 overwritten at C:\\Users\\tmurphy10\\Documents\\ShieldAi\\polynomial-path-smoothing\\FunctionsHelper.jl:6.\n",
      "WARNING: Method definition (::Type{Main.PolySol})(Int64, Array{Float64, 1}, Array{Float64, 1}, Array{Float64, 1}, Array{Float64, 1}, Array{Float64, 1}) in module Main at C:\\Users\\tmurphy10\\Documents\\ShieldAi\\polynomial-path-smoothing\\FunctionsHelper.jl:13 overwritten at C:\\Users\\tmurphy10\\Documents\\ShieldAi\\polynomial-path-smoothing\\FunctionsHelper.jl:13.\n",
      "WARNING: Method definition (::Type{Main.PolySol})(Any, Any, Any, Any, Any, Any) in module Main at C:\\Users\\tmurphy10\\Documents\\ShieldAi\\polynomial-path-smoothing\\FunctionsHelper.jl:13 overwritten at C:\\Users\\tmurphy10\\Documents\\ShieldAi\\polynomial-path-smoothing\\FunctionsHelper.jl:13.\n",
      "WARNING: Method definition evaluate_poly(Array{Float64, 1}, Int64, Any) in module Main at C:\\Users\\tmurphy10\\Documents\\ShieldAi\\polynomial-path-smoothing\\FunctionsHelper.jl:35 overwritten at C:\\Users\\tmurphy10\\Documents\\ShieldAi\\polynomial-path-smoothing\\FunctionsHelper.jl:35.\n",
      "WARNING: Method definition verifyActuateablePath(Main.PolySol, Float64, Float64, Float64, Float64) in module Main at C:\\Users\\tmurphy10\\Documents\\ShieldAi\\polynomial-path-smoothing\\FunctionsHelper.jl:88 overwritten at C:\\Users\\tmurphy10\\Documents\\ShieldAi\\polynomial-path-smoothing\\FunctionsHelper.jl:88.\n",
      "WARNING: Method definition constr_order(Any, Any, Any) in module Main at C:\\Users\\tmurphy10\\Documents\\ShieldAi\\polynomial-path-smoothing\\FunctionsHelper.jl:259 overwritten at C:\\Users\\tmurphy10\\Documents\\ShieldAi\\polynomial-path-smoothing\\FunctionsHelper.jl:259.\n",
      "WARNING: Method definition form_Q(Any, Any) in module Main at C:\\Users\\tmurphy10\\Documents\\ShieldAi\\polynomial-path-smoothing\\FunctionsHelper.jl:281 overwritten at C:\\Users\\tmurphy10\\Documents\\ShieldAi\\polynomial-path-smoothing\\FunctionsHelper.jl:281.\n",
      "WARNING: Method definition occupancyCellChecker(Any, Any, Any, Any, Float64, Float64, Float64, Int64, Float64, Float64) in module Main at C:\\Users\\tmurphy10\\Documents\\ShieldAi\\polynomial-path-smoothing\\FunctionsHelper.jl:327 overwritten at C:\\Users\\tmurphy10\\Documents\\ShieldAi\\polynomial-path-smoothing\\FunctionsHelper.jl:327.\n",
      "WARNING: Method definition occupancy_get_id(Any, Any, Any) in module Main at C:\\Users\\tmurphy10\\Documents\\ShieldAi\\polynomial-path-smoothing\\FunctionsHelper.jl:465 overwritten at C:\\Users\\tmurphy10\\Documents\\ShieldAi\\polynomial-path-smoothing\\FunctionsHelper.jl:465.\n",
      "WARNING: Method definition get_grid_extent() in module Main at C:\\Users\\tmurphy10\\Documents\\ShieldAi\\polynomial-path-smoothing\\FunctionsHelper.jl:473 overwritten at C:\\Users\\tmurphy10\\Documents\\ShieldAi\\polynomial-path-smoothing\\FunctionsHelper.jl:473.\n",
      "WARNING: Method definition get_grid_resolution() in module Main at C:\\Users\\tmurphy10\\Documents\\ShieldAi\\polynomial-path-smoothing\\FunctionsHelper.jl:476 overwritten at C:\\Users\\tmurphy10\\Documents\\ShieldAi\\polynomial-path-smoothing\\FunctionsHelper.jl:476.\n"
     ]
    }
   ],
   "source": [
    "include(\"FunctionsHelper.jl\")"
   ]
  },
  {
   "cell_type": "code",
   "execution_count": 779,
   "metadata": {
    "collapsed": false,
    "scrolled": true
   },
   "outputs": [
    {
     "name": "stdout",
     "output_type": "stream",
     "text": [
      "[0.0112488]\n",
      "Made it through optimization according to percision\n",
      "unverified\n",
      "[0.000435814]\n",
      "Made it through optimization according to percision\n",
      "unverified\n",
      "[0.000119997]\n",
      "Made it through optimization according to percision\n",
      "unverified\n",
      "[6.10688e-5]\n",
      "Made it through optimization according to percision\n",
      "unverified\n",
      "[4.06146e-5]\n",
      "Made it through optimization according to percision\n",
      "unverified\n",
      "[3.07918e-5]\n",
      "Made it through optimization according to percision\n",
      "unverified\n",
      "[2.50679e-5]\n",
      "Made it through optimization according to percision\n",
      "unverified\n",
      "[2.12974e-5]\n",
      "Made it through optimization according to percision\n",
      "unverified\n",
      "[1.86033e-5]\n",
      "Made it through optimization according to percision\n",
      "unverified\n",
      "[1.65668e-5]\n",
      "Made it through optimization according to percision\n",
      "unverified\n",
      "[1.49638e-5]\n",
      "Made it through optimization according to percision\n",
      "unverified\n",
      "[1.36633e-5]\n",
      "Made it through optimization according to percision\n",
      "unverified\n",
      "[1.25836e-5]\n",
      "Made it through optimization according to percision\n",
      "unverified\n",
      "[1.16705e-5]\n",
      "Made it through optimization according to percision\n",
      "unverified\n",
      "[1.08867e-5]\n",
      "Made it through optimization according to percision\n",
      "unverified\n",
      "[1.02056e-5]\n",
      "Made it through optimization according to percision\n",
      "unverified\n",
      "[9.60765e-6]\n",
      "Made it through optimization according to percision\n",
      "unverified\n",
      "[9.07799e-6]\n",
      "Made it through optimization according to percision\n",
      "unverified\n",
      "[8.60526e-6]\n",
      "Made it through optimization according to percision\n",
      "unverified\n",
      "[8.18052e-6]\n",
      "Made it through optimization according to percision\n",
      "unverified\n",
      "[7.79664e-6]\n",
      "Made it through optimization according to percision\n",
      "unverified\n",
      "[7.44788e-6]\n",
      "Made it through optimization according to percision\n",
      "unverified\n",
      "[7.12954e-6]\n",
      "Made it through optimization according to percision\n",
      "unverified\n",
      "[6.83774e-6]\n",
      "path went out of bounds\n",
      "path went out of bounds\n"
     ]
    }
   ],
   "source": [
    "\n",
    "#Function polyPathLocal creates a 7th order polynomial to be fit and optimized between the current copter configuration\n",
    "# and a configuration on the global plan.\n",
    "#Assumptions\n",
    "# Default global path to plan to is Dijkstras\n",
    "# Average distance for local planner is 10 meters\n",
    "# Three initial conditions are known\n",
    "#Inputs\n",
    "# current_Pos - the initial positions x,y,z, yaw = p\n",
    "# current_Vel - the initial velocities in x,y,z, yaw = p\n",
    "# current_Accel - the initial accelerations in x,y,z, yaw = p\n",
    "# final_Pos - the final positions in x,y,z, yaw = p\n",
    "# final_Vel - te final velocities in x,y,z, yaw = p\n",
    "# final_Accel - the final accelerations in x,y,z, yaw = p\n",
    "# costmap - an array of values from 0-255 to designate cost of traveling in a certain square by obstacles\n",
    "# q_coeffs - a vector of weights to be applied to the derivative costs\n",
    "# obstacleWeight - the weight applied to the obstacles in the cost function\n",
    "# flag - a boolean that will decide between dijkstras or FMT global planning assumption, true -> fmt\n",
    "# perturbStep - the amount of distance to start the gradient descent\n",
    "# iterations - number of iterations to optimize over\n",
    "#Outputs\n",
    "# polyPath - the coefficients of the polynomial of the planned path\n",
    "#####################Testing###########\n",
    "#Create costmap\n",
    "# Form a grid which shows the cells we check:\n",
    "width = get_grid_extent();\n",
    "res   = get_grid_resolution();\n",
    "n = round(Int64,ceil(width/res));\n",
    "costmap = zeros(n,n,n);\n",
    "#Create a certain amount of objects\n",
    "for tc = 1:20\n",
    "    index1 = round(rand()*get_grid_extent()/get_grid_resolution());\n",
    "    index2 = round(rand()*get_grid_extent()/get_grid_resolution());\n",
    "    for l = 1:size(costmap,1)\n",
    "        for p = 1:size(costmap,2)\n",
    "            costmap[l,p,1] += 255/(sqrt((l-index1)^2+(p-index2)^2)+1);\n",
    "            if(costmap[l,p,1]>255)\n",
    "                costmap[l,p,1] = 255;\n",
    "            end\n",
    "        end\n",
    "    end\n",
    "end\n",
    "        #Flip costmap for ploting purposes\n",
    "        pcostmap = costmap[:,:,1];\n",
    "        temp_costmap = zeros(size(pcostmap,1),size(pcostmap,2))\n",
    "        for h =1:size(costmap,1)\n",
    "            for g = 1:size(costmap,2)\n",
    "                temp_costmap[h,g,1] = costmap[h,size(pcostmap,2)-g+1,1];\n",
    "            end\n",
    "        end\n",
    "        temp_costmap=temp_costmap';\n",
    "#Things for testing\n",
    "vel_lim = 1*2;\n",
    "accel_lim = 0.65/4*2;\n",
    "##########################\n",
    "current_Pos = Point(rand()*(get_grid_extent()-5)+2,rand()*(get_grid_extent()-5)+2,0,0);\n",
    "current_Vel = Point((rand()-0.5)*vel_lim,(rand()-0.5)*vel_lim,0,0);\n",
    "current_Accel = Point(0,0,0,0);\n",
    "final_Pos = Point(rand()*(get_grid_extent()-5)+2,rand()*(get_grid_extent()-5)+2,0,0);\n",
    "final_Vel = Point(0,0,0,0);\n",
    "final_Accel = Point(0,0,0,0);\n",
    "flag = true;\n",
    "q_coeff = zeros(6+flag);\n",
    "#q_coeff[2] = 1;\n",
    "q_coeff[4] = 1;\n",
    "obstacleWeight = 0.05;\n",
    "lowerQeffs = 100000;\n",
    "iterations = 100;\n",
    "perturbStep = 200;\n",
    "precision = 0.000001;\n",
    "dim = 2;\n",
    "max_vel = 1000.0;\n",
    "max_accel = 1.65 #0.65;\n",
    "max_jerk = 10000.0;\n",
    "max_rpm = 100000000000.0;\n",
    "timeStep  = 0.01;\n",
    "aggressParam = 0.7;\n",
    "timeIncrease = 2;\n",
    "timeStart = 1.0;#sqrt((current_Pos.x-final_Pos.x)^2 + (current_Pos.y - final_Pos.y)^2)/max_vel;\n",
    "###########################################\n",
    "#Changeable value\n",
    "num_free = 1;\n",
    "num_points = 2;\n",
    "\n",
    "#Read in the states avaiable in the order initials, finals\n",
    "if(flag)\n",
    "    #All constraints\n",
    "    x_constr = [current_Pos.x; current_Vel.x; current_Accel.x; final_Pos.x; final_Vel.x; final_Accel.x];\n",
    "    y_constr = [current_Pos.y; current_Vel.y; current_Accel.y; final_Pos.y; final_Vel.y; final_Accel.y];\n",
    "    z_constr = [current_Pos.z; current_Vel.z; current_Accel.z; final_Pos.z; final_Vel.z; final_Accel.z];\n",
    "    p_constr = [current_Pos.p; current_Vel.p; current_Accel.p; final_Pos.p; final_Vel.p; final_Accel.p];\n",
    "else\n",
    "    #if dijkstras create a velocity approximation from the two points assuming traversed in a second - this gets relaxed\n",
    "    #later in the verification step also note the lack of a final acceleration\n",
    "    x_constr = [current_Pos.x; current_Vel.x; current_Accel.x; final_Pos.x; (final_Pos.x - current_Pos.x)];\n",
    "    y_constr = [current_Pos.y; current_Vel.y; current_Accel.y; final_Pos.y; (final_Pos.y - current_Pos.y)];\n",
    "    z_constr = [current_Pos.z; current_Vel.z; current_Accel.z; final_Pos.z; (final_Pos.z - current_Pos.z)];\n",
    "    p_constr = [current_Pos.p; current_Vel.p; current_Accel.p; final_Pos.p; (final_Pos.p - current_Pos.p)];\n",
    "end\n",
    "#Set up the constraint matrix in the order initials, finals (plus another constraint for optimization)\n",
    "num_constr = length(x_constr)+num_free;\n",
    "#The two corresponds to acceleration being the 2nd derivative three \n",
    "#if dijkstras create a free variable of acceleration else create another constraint for jerk\n",
    "orders = [collect(0:2); collect(0:(2+flag))];\n",
    "#Create time vector assuming 1 second for the final conditions and zero for the initial conditions\n",
    "#There are three zeros for three initial conditions\n",
    "#The last value is flag to be a one when fmt is used otherwise it will be in the vector as a zero that is never used\n",
    "times = [0.0;timeStart];\n",
    "timeIndex = [0;0;0;1;1;1;flag];\n",
    "#Calculate some numbers\n",
    "tot_degree = num_constr;\n",
    "\n",
    "#Start repeat if not verified\n",
    "unverified = true;\n",
    "counter2 = 0;\n",
    "while(unverified)\n",
    "    #Set up A matrix so that Ap = d where p is the coefficients of the polynomial and d are the constraints in a vector\n",
    "    A = zeros(tot_degree, tot_degree);\n",
    "    for k=1:tot_degree\n",
    "        A[k,:] = constr_order(orders[k], times[timeIndex[k]+1],tot_degree);\n",
    "    end\n",
    "    #Calculate A inverse\n",
    "    A_inv = inv(A);\n",
    "    Au = A_inv;\n",
    "    # Form Q matrix where cost = p'Qp without the costmap\n",
    "    Q = form_Q(q_coeff, times[end]-times[1]); \n",
    "    #Solve for the optimal ends with no costmap first\n",
    "    R = A_inv'*(Q*A_inv);\n",
    "    #short for optimizing matrix\n",
    "    opt_mat = -( R[(tot_degree-num_free+1):tot_degree, (tot_degree-num_free+1):tot_degree])\\R[1:(tot_degree-num_free), \n",
    "        (tot_degree-num_free+1):tot_degree]';\n",
    "    #Record the optimized value in a variable for later gradient descent; will only work for 1 free variable at the moment\n",
    "    x_free = opt_mat * x_constr;\n",
    "    y_free = opt_mat * y_constr;\n",
    "    z_free = opt_mat * z_constr;\n",
    "    p_free = opt_mat * p_constr;\n",
    "    x_coeffs = A_inv * [x_constr; x_free];\n",
    "    y_coeffs = A_inv * [y_constr; y_free];\n",
    "    z_coeffs = A_inv * [z_constr; z_free];\n",
    "    p_coeffs = A_inv * [p_constr; p_free];\n",
    "    \n",
    "    #Plot the poly optimized only for derivative costs\n",
    "    #figure()\n",
    "    #plotTimes = linspace(0,times[end],100);\n",
    "    #plot(evaluate_poly(x_coeffs,0,plotTimes), evaluate_poly(y_coeffs,0,plotTimes));\n",
    "    #imshow(temp_costmap,cmap=\"gray\", interpolation=\"none\",extent=[0,width,0,width])\n",
    "    #println([x_constr; x_free])\n",
    "    #println([y_constr; y_free])\n",
    "    #println(opt_mat * x_constr)\n",
    "    #Check the cost with the costmap by first finding the squares the path goes through\n",
    "    #Find the cells of that the polynomial passes through; the last 5 inputs here are the three grid resolutions,\n",
    "    # the dimension and an aggression param\n",
    "    cells,holder = occupancyCellChecker(x_coeffs, y_coeffs, z_coeffs, timeIndex, get_grid_resolution(), \n",
    "        get_grid_resolution(), get_grid_resolution(), dim, aggressParam,timeStep);\n",
    "    #Check if out of bounds and break out since without accurate costs things would get messed up\n",
    "    if(holder)\n",
    "        println(\"path went out of bounds\")\n",
    "        break;\n",
    "    end\n",
    "    #The division by three is to normalize the costs from the coefficients#\n",
    "    #println(cells)\n",
    "    cost1 = (x_coeffs' * Q * x_coeffs + y_coeffs' * Q * y_coeffs + z_coeffs' * Q * z_coeffs)/3/lowerQeffs +\n",
    "        obstacleWeight*sum(costmap[cells]);\n",
    "    #Optimize for cost using gradient descent\n",
    "    unOptimized = true;\n",
    "    counter = 0;\n",
    "    #Start the while loop until optimized or over the number of times to iterate\n",
    "    while(unOptimized && counter <= iterations)\n",
    "        #println(\"in cost loop\")\n",
    "        #Perturb every dimension and solve for the new polynomials\n",
    "        delta = perturbStep;\n",
    "        #Check the cost of each perturbed poly, if increased, change the perturbation direction, record the rate of change\n",
    "        x_coeffsP = A_inv * [x_constr; x_free+perturbStep];\n",
    "        cells,holder = occupancyCellChecker(x_coeffsP, y_coeffs, z_coeffs, times, get_grid_resolution(),\n",
    "            get_grid_resolution(), get_grid_resolution(), dim, aggressParam,timeStep);\n",
    "        #Check if out of bounds and break out since without accurate costs things would get messed up\n",
    "        if(holder)\n",
    "            println(\"path went out of bounds\")\n",
    "            break;\n",
    "        end\n",
    "        costx = (x_coeffsP' * Q * x_coeffsP + y_coeffs' * Q * y_coeffs + z_coeffs' * Q * z_coeffs)/3/lowerQeffs +\n",
    "            obstacleWeight*sum(costmap[cells]);\n",
    "        rateChangex = (costx-cost1)/perturbStep;\n",
    "        y_coeffsP = A_inv * [y_constr; y_free+perturbStep];\n",
    "        cells, holder = occupancyCellChecker(x_coeffs, y_coeffsP, z_coeffs, times, get_grid_resolution(), \n",
    "            get_grid_resolution(), get_grid_resolution(), dim, aggressParam,timeStep);\n",
    "        #Check if out of bounds and break out since without accurate costs things would get messed up\n",
    "        if(holder)\n",
    "            println(\"path went out of bounds\")\n",
    "            break;\n",
    "        end\n",
    "        costy = (x_coeffs' * Q * x_coeffs + y_coeffsP' * Q * y_coeffsP + z_coeffs' * Q * z_coeffs)/3/lowerQeffs +\n",
    "            obstacleWeight*sum(costmap[cells]);\n",
    "        rateChangey = (costy-cost1)/perturbStep;\n",
    "        z_coeffsP = A_inv * [z_constr; z_free+perturbStep];\n",
    "        cells, holder = occupancyCellChecker(x_coeffs, y_coeffs, z_coeffsP, times, get_grid_resolution(), \n",
    "            get_grid_resolution(), get_grid_resolution(), dim, aggressParam,timeStep);\n",
    "        #Check if out of bounds and break out since without accurate costs things would get messed up\n",
    "        if(holder)\n",
    "            println(\"path went out of bounds\")\n",
    "            break;\n",
    "        end\n",
    "        costz = (x_coeffs' * Q * x_coeffs + y_coeffs' * Q * y_coeffs + z_coeffsP' * Q * z_coeffsP)/3/lowerQeffs +\n",
    "            obstacleWeight*sum(costmap[cells]);\n",
    "        rateChangez = (costz-cost1)/perturbStep;\n",
    "\n",
    "        #Calculate the vector direction of maximum descent\n",
    "        dir = normalize!([rateChangex[1]*(-sign(rateChangex)[1]); rateChangey[1]*(-sign(rateChangey)[1]); rateChangez[1]*(-sign(rateChangez)[1])]);\n",
    "\n",
    "        #Step in that direction for all variables\n",
    "        x_free += perturbStep * -sign(rateChangex)[1]*abs(dir[1]);\n",
    "        y_free += perturbStep * -sign(rateChangey)[1]*abs(dir[2]);\n",
    "        z_free += perturbStep * -sign(rateChangex)[1]*abs(dir[3]);\n",
    "\n",
    "        #Calculate poly and cost and see if actually decreased\n",
    "        x_coeffs = A_inv * [x_constr; x_free];\n",
    "        y_coeffs = A_inv * [y_constr; y_free];\n",
    "        z_coeffs = A_inv * [z_constr; z_free];\n",
    "        cells,holder = occupancyCellChecker(x_coeffs, y_coeffs, z_coeffs, times, get_grid_resolution(), \n",
    "            get_grid_resolution(), get_grid_resolution(), dim, aggressParam,timeStep);\n",
    "        #Check if out of bounds and break out since without accurate costs things would get messed up\n",
    "        if(holder)\n",
    "            println(\"path went out of bounds\")\n",
    "            break;\n",
    "        end\n",
    "        #The division by three is to normalize the costs from the coefficients\n",
    "        costNew = (x_coeffs' * Q * x_coeffs + y_coeffs' * Q * y_coeffs + z_coeffs' * Q * z_coeffs)/3/lowerQeffs +\n",
    "            obstacleWeight*sum(costmap[cells]);\n",
    "        #If not decreased half the step and recompute\n",
    "        if((cost1-costNew)[1] < 0)\n",
    "            #println(\"shortened step\")\n",
    "            perturbStep = perturbStep/2;\n",
    "            x_free -= perturbStep * -sign(rateChangex)[1]*abs(dir[1]);\n",
    "            y_free -= perturbStep * -sign(rateChangey)[1]*abs(dir[2]);\n",
    "            z_free -= perturbStep * -sign(rateChangex)[1]*abs(dir[3]);\n",
    "        end\n",
    "        #Check if within small change\n",
    "        if(abs(perturbStep * dir[1]) < precision && abs(perturbStep * dir[2]) < precision && abs(perturbStep * dir[3]) < precision)\n",
    "            unOptimized = false;\n",
    "            println(\"Made it through optimization according to percision\")\n",
    "        end\n",
    "        counter += 1;\n",
    "        #println(\"counter: \", counter, \"  iterations: \", iterations)\n",
    "        #update cost\n",
    "        cost1 = costNew;\n",
    "        #println(cost1)\n",
    "    end\n",
    "    #end while\n",
    "    #Check if out of bounds and break since a path out of bounds is likely not to optimize to inbounds\n",
    "    if(holder)\n",
    "        println(\"path went out of bounds\")\n",
    "        break;\n",
    "    end\n",
    "    if(counter>iterations)\n",
    "        println(\"Optimization ended because went through all iterations\")\n",
    "    end\n",
    "    #println((x_coeffs' * Q * x_coeffs + y_coeffs' * Q * y_coeffs + z_coeffs' * Q * z_coeffs)/3/lowerQeffs )\n",
    "    #println(obstacleWeight*sum(costmap[cells]))\n",
    "\n",
    "    #Plot the optimized polyseg\n",
    "    #figure()\n",
    "    #plotTimes = linspace(0,times[end],100);\n",
    "    #plot(evaluate_poly(x_coeffs,0,plotTimes), evaluate_poly(y_coeffs,0,plotTimes));\n",
    "    #imshow(temp_costmap,cmap=\"gray\", interpolation=\"none\",extent=[0,width,0,width])\n",
    "    #Color the cells of the poly\n",
    "    #for d in cells\n",
    "    #    costmap[d]=255;\n",
    "    #end\n",
    "    #Check if collided by checking last cost bit\n",
    "    #println(costmap[cells])\n",
    "    \n",
    "    #verfiy path is feasible based on constraints    \n",
    "    sol = PolySol(num_points-1, times, x_coeffs, y_coeffs, z_coeffs, p_coeffs); \n",
    "    errorTimes = verifyActuateablePath(sol, max_vel, max_accel, max_jerk, max_rpm);\n",
    "    #Redo the calculation with a larger time if there are errors\n",
    "    if(false)#!isempty(errorTimes) && counter2 < 100)\n",
    "        #Start a while loop to loop until the path is optimized\n",
    "        println(\"unverified\")\n",
    "        unverified = true;\n",
    "        counter2 += timeIncrease;\n",
    "        times[end] += timeIncrease;\n",
    "    else\n",
    "        if(counter2 >= 100)\n",
    "            println(\"not verified in less than 100s\")\n",
    "        else\n",
    "            println(\"verified\")\n",
    "        end\n",
    "        unverified = false;\n",
    "        #Find the cells of that the polynomial passes through\n",
    "        cells,holder = occupancyCellChecker(x_coeffs, y_coeffs, z_coeffs, times, get_grid_resolution(), \n",
    "        get_grid_resolution(), get_grid_resolution(), dim, aggressParam,timeStep);\n",
    "    end\n",
    "end\n",
    "#Check if path is too long compared to distance to travel\n",
    "#if(10< length(cells)*get_grid_resolution())\n",
    "    #(sqrt((current_Pos.x-final_Pos.x)^2+(current_Pos.y-final_Pos.y)^2\n",
    "    #Print a stupid message\n",
    "#    println(\"stupid path so should stop\")\n",
    "#end\n",
    "#Check if not out of bounds and make cost inf if it is true\n",
    "if(!holder)\n",
    "    #Check Collision again\n",
    "    if(any(costmap[cells].>254))\n",
    "        #return failure if collided still\n",
    "        println(\"Leads to a collision so failure\")\n",
    "    end\n",
    "    #Create path\n",
    "    figure()\n",
    "    plotTimes = linspace(0,times[end],100);\n",
    "    plot(evaluate_poly(x_coeffs,0,plotTimes), evaluate_poly(y_coeffs,0,plotTimes));\n",
    "    figure()\n",
    "    plotTimes = linspace(0,times[end],100);\n",
    "    plot(evaluate_poly(x_coeffs,0,plotTimes), evaluate_poly(y_coeffs,0,plotTimes));\n",
    "    imshow(temp_costmap,cmap=\"gray\", interpolation=\"none\",extent=[0,width,0,width])\n",
    "    scatter(current_Pos.x,current_Pos.y, color = \"red\")\n",
    "end\n",
    "\n",
    "#Return path\n",
    "\n",
    "#\n"
   ]
  },
  {
   "cell_type": "code",
   "execution_count": 757,
   "metadata": {
    "collapsed": false
   },
   "outputs": [
    {
     "data": {
      "image/png": "[encoded data removed]",
      "text/plain": [
       "PyPlot.Figure(PyObject <matplotlib.figure.Figure object at 0x00000002A3AA5D68>)"
      ]
     },
     "metadata": {},
     "output_type": "display_data"
    },
    {
     "name": "stdout",
     "output_type": "stream",
     "text": [
      "[3.44908,0.259226,0.0,2.79099,0.0,0.0]\n"
     ]
    }
   ],
   "source": [
    "for q = -1:1\n",
    "    xcoeffs = Au*[10.2;1;0;20;0;0;187];\n",
    "    ycoeffs = Au*[12.3;1.0;0;22.3;0;0;230+q];\n",
    "    plotTimes = linspace(0,1,100);\n",
    "    plot(evaluate_poly(xcoeffs,0,plotTimes),evaluate_poly(ycoeffs,0,plotTimes) );\n",
    "end\n",
    "println(y_constr)\n",
    "#[10.2,1.0,0.0,20.0,9.8,-11.7333]\n",
    "#[10.3,1.0,0.0,22.3,12.0,-14.6667]"
   ]
  },
  {
   "cell_type": "code",
   "execution_count": 85,
   "metadata": {
    "collapsed": false
   },
   "outputs": [
    {
     "name": "stdout",
     "output_type": "stream",
     "text": [
      "[1.0,1.0,-2.03931e-16,-0.0107305,0.000172624,-6.6314e-7]\n"
     ]
    }
   ],
   "source": [
    "println(x_coeffs)"
   ]
  },
  {
   "cell_type": "code",
   "execution_count": 772,
   "metadata": {
    "collapsed": false
   },
   "outputs": [
    {
     "data": {
      "image/png": "[encoded data removed]",
      "text/plain": [
       "PyPlot.Figure(PyObject <matplotlib.figure.Figure object at 0x0000000298A14CC0>)"
      ]
     },
     "metadata": {},
     "output_type": "display_data"
    },
    {
     "name": "stdout",
     "output_type": "stream",
     "text": [
      "[157.843,156.525,155.725,154.733,154.116,153.838,151.959,151.762,149.454,149.058,148.597,146.555,145.966,145.324,143.067,142.485,141.949,140.827,140.478,140.235,139.448,139.396,139.468,139.096,139.367,139.214,139.405,139.488,139.179,138.883,138.286,138.311,137.147,135.601,135.965,133.808,131.381,128.946,126.3,123.16,120.134,120.21,117.19,137.366,144.238,149.551,156.2,151.744,117.128,120.579,124.497,129.058,134.536,141.375,150.332,162.777,181.231,208.941,231.674,210.631,173.101,162.67,154.703,148.843,144.534,141.344,138.976,137.228,137.358,136.249,135.482,135.004,134.778,134.775,134.978,135.372,136.011,136.614,137.392,138.346,139.481,140.807,142.972,144.678,146.597,148.743,151.13,153.767,156.801,159.769,162.938,166.275,169.737,173.261,177.048,181.061,185.376,190.092,195.296,208.119,217.425,227.162,235.119,237.731,255.0,242.589,223.718,207.986,195.416,188.047,179.053,171.905,166.119,161.37,161.446,157.394,154.024,151.209,148.857,146.899,146.494,144.871,143.554,142.511,141.718,140.761,140.471,140.402,140.548,140.901,141.452,142.183,142.658]\n"
     ]
    }
   ],
   "source": [
    "    plot(evaluate_poly(x_coeffs,0,plotTimes), evaluate_poly(y_coeffs,0,plotTimes));\n",
    "    imshow(temp_costmap,cmap=\"gray\", interpolation=\"none\",extent=[0,width,0,width])\n",
    "\n",
    "println(costmap[cells])"
   ]
  },
  {
   "cell_type": "code",
   "execution_count": null,
   "metadata": {
    "collapsed": true
   },
   "outputs": [],
   "source": []
  }
 ],
 "metadata": {
  "anaconda-cloud": {},
  "kernelspec": {
   "display_name": "Julia 0.5.0",
   "language": "julia",
   "name": "julia-0.5"
  },
  "language_info": {
   "file_extension": ".jl",
   "mimetype": "application/julia",
   "name": "julia",
   "version": "0.5.0"
  }
 },
 "nbformat": 4,
 "nbformat_minor": 0
}
