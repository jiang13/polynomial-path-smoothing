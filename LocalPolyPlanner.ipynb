{
 "cells": [
  {
   "cell_type": "markdown",
   "metadata": {},
   "source": [
    "# IGNORE CELLS Until you see another header"
   ]
  },
  {
   "cell_type": "code",
   "execution_count": null,
   "metadata": {
    "collapsed": false
   },
   "outputs": [],
   "source": [
    "#Define the BaseLocalPlanner object\n",
    "class BaseLocalPlanner{ #Change to class\n",
    "    public:\n",
    "        bool computeVelocityCommands(cmd_vels::Vector{Float64}); #This will be the twist object\n",
    "        void initialize(name::String, transfromPointer, costmap); # The second variable is a tf::TransfomListener*, costmap_2d::Costmap2DROS*\n",
    "        bool isGoalReached();\n",
    "        bool setPlan(path) #input is a constant vector of PoseStamped objects - gives times and positions\n",
    "        ~BaseLocalPlanner();\n",
    "    private:\n",
    "        BaseLocalPlanner();        \n",
    "}"
   ]
  },
  {
   "cell_type": "code",
   "execution_count": null,
   "metadata": {
    "collapsed": false
   },
   "outputs": [],
   "source": [
    "#Function polyPathLocal creates a nth order polynomial to be fit and optimized between the current copter configuration\n",
    "# and a configuration on the global plan.\n",
    "#Assumptions\n",
    "# Default global path to plan to is Dijkstras\n",
    "#Inputs\n",
    "# Odometry.msg containing\n",
    "#  current_Position - the current position of the robot, an object with x, y, and z points\n",
    "#  current_Quaternion - the current orientation of the robot based on quaternions\n",
    "#  current_Velocity - a vector of current velocities of the robot\n",
    "#  current_YawRate - a value of yaw rate\n",
    "# Path.msg either containing or providing\n",
    "#  desired_Positions - an array of positions x,y,z, yaw = p\n",
    "#  desired_Velocities - the end velocities for x,y,z,p\n",
    "#  desired_Acceleration - the end accelerations for x,y,z,p\n",
    "# flagFMT - a boolean that is true to indicate a computation assuming FMT global plan\n",
    "# costMap - an array of cost values from 0-255\n",
    "#Outputs\n",
    "# Path.msg containing\n",
    "#  path - an array of positions\n",
    "#  timeStamps - an array of times corresponding to each position in the path\n",
    "#  \n",
    "\n"
   ]
  },
  {
   "cell_type": "code",
   "execution_count": null,
   "metadata": {
    "collapsed": true
   },
   "outputs": [],
   "source": [
    "#Function computeVelocityCommands will compute the velocity commands to send to the base given current position, orientation\n",
    "# and velocity\n",
    "#Inputs\n",
    "# \n",
    "#Outputs\n",
    "# \n",
    "function computeVelocityCommands(cmd_vels::Vector{Float64})\n",
    "    \n",
    "    \n",
    "end"
   ]
  },
  {
   "cell_type": "code",
   "execution_count": null,
   "metadata": {
    "collapsed": true
   },
   "outputs": [],
   "source": [
    "#Function initialize constructs the local planner\n",
    "#Inputs\n",
    "# name - the name to give this instance of the local planner\n",
    "# tf - a pointer to a transform listener\n",
    "# costmap_ros - the cost map to use for assignning costs to local plans\n",
    "#Outputs\n",
    "# Nothing\n",
    "function initialize(name::String, tf, costmap)\n",
    "    #Set name of the object to name\n",
    "    #Set the tf\n",
    "#Outputs\n",
    "# \n",
    "function isGoalReached()\n",
    "    \n",
    "    #Read in costmap from global centered around robot\n",
    "end"
   ]
  },
  {
   "cell_type": "code",
   "execution_count": null,
   "metadata": {
    "collapsed": true
   },
   "outputs": [],
   "source": [
    "#Function isGoalReached checks if the goals has been reached\n",
    "#Inputs\n",
    "# \n",
    "#Outputs\n",
    "# \n",
    "function isGoalReached()\n",
    "    \n",
    "    \n",
    "end"
   ]
  },
  {
   "cell_type": "code",
   "execution_count": null,
   "metadata": {
    "collapsed": false
   },
   "outputs": [],
   "source": [
    "#Function setPlan sets the plan that the local planner is following\n",
    "#Inputs\n",
    "# \n",
    "#Outputs\n",
    "# \n",
    "function setPlan(path)\n",
    "    \n",
    "    \n",
    "end"
   ]
  },
  {
   "cell_type": "markdown",
   "metadata": {},
   "source": [
    "# This is the first cell to start and they must be run in order if you want good results"
   ]
  },
  {
   "cell_type": "code",
   "execution_count": 3,
   "metadata": {
    "collapsed": false
   },
   "outputs": [
    {
     "name": "stderr",
     "output_type": "stream",
     "text": [
      "WARNING: Method definition (::Type{Main.Point})(Float64, Float64, Float64, Float64) in module Main at C:\\Users\\tmurphy10\\Documents\\ShieldAi\\polynomial-path-smoothing\\FunctionsHelper.jl:6 overwritten at C:\\Users\\tmurphy10\\Documents\\ShieldAi\\polynomial-path-smoothing\\FunctionsHelper.jl:6.\n",
      "WARNING: Method definition (::Type{Main.Point})(Any, Any, Any, Any) in module Main at C:\\Users\\tmurphy10\\Documents\\ShieldAi\\polynomial-path-smoothing\\FunctionsHelper.jl:6 overwritten at C:\\Users\\tmurphy10\\Documents\\ShieldAi\\polynomial-path-smoothing\\FunctionsHelper.jl:6.\n",
      "WARNING: Method definition (::Type{Main.PolySol})(Int64, Array{Float64, 1}, Array{Float64, 1}, Array{Float64, 1}, Array{Float64, 1}, Array{Float64, 1}) in module Main at C:\\Users\\tmurphy10\\Documents\\ShieldAi\\polynomial-path-smoothing\\FunctionsHelper.jl:13 overwritten at C:\\Users\\tmurphy10\\Documents\\ShieldAi\\polynomial-path-smoothing\\FunctionsHelper.jl:13.\n",
      "WARNING: Method definition (::Type{Main.PolySol})(Any, Any, Any, Any, Any, Any) in module Main at C:\\Users\\tmurphy10\\Documents\\ShieldAi\\polynomial-path-smoothing\\FunctionsHelper.jl:13 overwritten at C:\\Users\\tmurphy10\\Documents\\ShieldAi\\polynomial-path-smoothing\\FunctionsHelper.jl:13.\n",
      "WARNING: Method definition evaluate_poly(Array{Float64, 1}, Int64, Any) in module Main at C:\\Users\\tmurphy10\\Documents\\ShieldAi\\polynomial-path-smoothing\\FunctionsHelper.jl:35 overwritten at C:\\Users\\tmurphy10\\Documents\\ShieldAi\\polynomial-path-smoothing\\FunctionsHelper.jl:35.\n",
      "WARNING: Method definition verifyActuateablePath(Main.PolySol, Float64, Float64, Float64, Float64, Int64, Int64) in module Main at C:\\Users\\tmurphy10\\Documents\\ShieldAi\\polynomial-path-smoothing\\FunctionsHelper.jl:90 overwritten at C:\\Users\\tmurphy10\\Documents\\ShieldAi\\polynomial-path-smoothing\\FunctionsHelper.jl:90.\n",
      "WARNING: Method definition constr_order(Any, Any, Any) in module Main at C:\\Users\\tmurphy10\\Documents\\ShieldAi\\polynomial-path-smoothing\\FunctionsHelper.jl:266 overwritten at C:\\Users\\tmurphy10\\Documents\\ShieldAi\\polynomial-path-smoothing\\FunctionsHelper.jl:266.\n",
      "WARNING: Method definition form_Q(Any, Any) in module Main at C:\\Users\\tmurphy10\\Documents\\ShieldAi\\polynomial-path-smoothing\\FunctionsHelper.jl:288 overwritten at C:\\Users\\tmurphy10\\Documents\\ShieldAi\\polynomial-path-smoothing\\FunctionsHelper.jl:288.\n",
      "WARNING: Method definition occupancyCellChecker(Any, Any, Any, Any, Float64, Float64, Float64, Int64, Float64, Float64) in module Main at C:\\Users\\tmurphy10\\Documents\\ShieldAi\\polynomial-path-smoothing\\FunctionsHelper.jl:334 overwritten at C:\\Users\\tmurphy10\\Documents\\ShieldAi\\polynomial-path-smoothing\\FunctionsHelper.jl:334.\n",
      "WARNING: Method definition occupancy_get_id(Any, Any, Any) in module Main at C:\\Users\\tmurphy10\\Documents\\ShieldAi\\polynomial-path-smoothing\\FunctionsHelper.jl:473 overwritten at C:\\Users\\tmurphy10\\Documents\\ShieldAi\\polynomial-path-smoothing\\FunctionsHelper.jl:473.\n",
      "WARNING: Method definition get_grid_extent() in module Main at C:\\Users\\tmurphy10\\Documents\\ShieldAi\\polynomial-path-smoothing\\FunctionsHelper.jl:481 overwritten at C:\\Users\\tmurphy10\\Documents\\ShieldAi\\polynomial-path-smoothing\\FunctionsHelper.jl:481.\n",
      "WARNING: Method definition get_grid_resolution() in module Main at C:\\Users\\tmurphy10\\Documents\\ShieldAi\\polynomial-path-smoothing\\FunctionsHelper.jl:484 overwritten at C:\\Users\\tmurphy10\\Documents\\ShieldAi\\polynomial-path-smoothing\\FunctionsHelper.jl:484.\n"
     ]
    }
   ],
   "source": [
    "include(\"FunctionsHelper.jl\") #my take on poly_helper\n",
    "#This changed certain functions and got rid of unused ones otherwise it is a copy of poly_helper\n",
    "#Note some types were changed to make coding easier\n",
    "seedForRandomness = 0;\n"
   ]
  },
  {
   "cell_type": "code",
   "execution_count": 45,
   "metadata": {
    "collapsed": false,
    "scrolled": false
   },
   "outputs": [
    {
     "name": "stdout",
     "output_type": "stream",
     "text": [
      "21\n",
      "[3155,3255,3254,3354,3454,3453,3553,3652,3751,3851,3950,4050,4149,4249,4348,4448,4547,4647,4746,4846,4946,5045,5145,5244,5344,5444,5543,5643,5743,5842,5942,6042,6142,6242,6342,6442,6542,6642,6643,6743,6843,6943,6942,7042]\n"
     ]
    },
    {
     "data": {
      "image/png": "[encoded data removed]",
      "text/plain": [
       "PyPlot.Figure(PyObject <matplotlib.figure.Figure object at 0x000000000143ADA0>)"
      ]
     },
     "metadata": {},
     "output_type": "display_data"
    },
    {
     "data": {
      "image/png": "[encoded data removed]",
      "text/plain": [
       "PyPlot.Figure(PyObject <matplotlib.figure.Figure object at 0x00000000023DE550>)"
      ]
     },
     "metadata": {},
     "output_type": "display_data"
    },
    {
     "data": {
      "image/png": "[encoded data removed]",
      "text/plain": [
       "PyPlot.Figure(PyObject <matplotlib.figure.Figure object at 0x000000000241FDA0>)"
      ]
     },
     "metadata": {},
     "output_type": "display_data"
    },
    {
     "name": "stdout",
     "output_type": "stream",
     "text": [
      "Optimization ended because went through all iterations\n",
      "[3155,3254,3353,3452,3552,3551,3650,3750,3749,3849,3948,3947,4047,4146,4245,4345,4344,4444,4543,4643,4642,4742,4841,4941,4940,5040,5139,5239,5339,5438,5538,5638,5738,5739,5839,5939,6039,6038,6138]\n",
      "[3155,3254,3353,3452,3552,3551,3650,3750,3749,3849,3948,3947,4047,4146,4245,4345,4344,4444,4543,4643,4642,4742,4841,4941,4940,5040,5139,5239,5339,5438,5538,5638,5738,5739,5839,5939,6039,6038,6138]\n",
      "unverified\n",
      "unverified\n",
      "unverified\n",
      "unverified\n",
      "unverified\n",
      "unverified\n",
      "unverified\n",
      "unverified\n",
      "unverified\n",
      "verified\n",
      "Time of Path: 10.0\n"
     ]
    },
    {
     "data": {
      "text/plain": [
       "PyObject <matplotlib.image.AxesImage object at 0x0000000028026438>"
      ]
     },
     "execution_count": 45,
     "metadata": {},
     "output_type": "execute_result"
    }
   ],
   "source": [
    "\n",
    "#Function polyPathLocal creates a 7th order polynomial to be fit and optimized between the current copter configuration\n",
    "# and a configuration on the global plan.\n",
    "#Assumptions\n",
    "# Default global path to plan to is Dijkstras\n",
    "# Average distance for local planner is 10 meters\n",
    "# Three initial conditions are known\n",
    "#Inputs\n",
    "# current_Pos - the initial positions x,y,z, yaw = p\n",
    "# current_Vel - the initial velocities in x,y,z, yaw = p\n",
    "# current_Accel - the initial accelerations in x,y,z, yaw = p\n",
    "# final_Pos - the final positions in x,y,z, yaw = p\n",
    "# final_Vel - te final velocities in x,y,z, yaw = p\n",
    "# final_Accel - the final accelerations in x,y,z, yaw = p\n",
    "# costmap - an array of values from 0-255 to designate cost of traveling in a certain square by obstacles\n",
    "# q_coeffs - a vector of weights to be applied to the derivative costs\n",
    "# obstacleWeight - the weight applied to the obstacles in the cost function\n",
    "# flag - a boolean that will decide between dijkstras or FMT global planning assumption, true -> fmt\n",
    "# perturbStep - the amount of distance to start the gradient descent\n",
    "# iterations - number of iterations to optimize over\n",
    "#Outputs\n",
    "# polyPath - the coefficients of the polynomial of the planned path\n",
    "#####################Testing Variables###########################################\n",
    "#Create costmap\n",
    "# Form a grid which shows the cells we check:\n",
    "width = get_grid_extent();\n",
    "res   = get_grid_resolution();\n",
    "n = round(Int64,ceil(width/res));\n",
    "seedForRandomness = 21\n",
    "srand(seedForRandomness)\n",
    "println(seedForRandomness)\n",
    "#interesting seed:14, 15, 21\n",
    "costmap = zeros(n,n,n)+50;\n",
    "#Create a certain amount of objects\n",
    "for tc = 1:20\n",
    "    index1 = round(rand()*get_grid_extent()/get_grid_resolution());\n",
    "    index2 = round(rand()*get_grid_extent()/get_grid_resolution());\n",
    "    for l = 1:size(costmap,1)\n",
    "        for p = 1:size(costmap,2)\n",
    "            costmap[l,p,1] += 255/(sqrt((l-index1)^2+(p-index2)^2));\n",
    "            if(costmap[l,p,1]>255)\n",
    "                costmap[l,p,1] = 255;\n",
    "            end\n",
    "        end\n",
    "    end\n",
    "end\n",
    "#Flip costmap for ploting purposes\n",
    "costmap = zeros(n,n,n)\n",
    "pcostmap = costmap[:,:,1];\n",
    "temp_costmap = zeros(size(pcostmap,1),size(pcostmap,2))\n",
    "for h =1:size(costmap,1)\n",
    "    for g = 1:size(costmap,2)\n",
    "        temp_costmap[h,g,1] = costmap[h,size(pcostmap,2)-g+1,1];\n",
    "    end\n",
    "end\n",
    "temp_costmap=temp_costmap';\n",
    "\n",
    "#Things for testing random start and end configurations: only change the first number\n",
    "vel_lim = 0.0*2;\n",
    "accel_lim = 0.65/4*2;\n",
    "##########################\n",
    "current_Pos = Point(rand()*(get_grid_extent()-5)+2,rand()*(get_grid_extent()-5)+2,0,0);\n",
    "current_Vel = Point((rand()-0.5)*vel_lim,(rand()-0.5)*vel_lim,0,0);\n",
    "current_Accel = Point(0,0,0,0);\n",
    "final_Pos = Point(rand()*(get_grid_extent()-5)+2,rand()*(get_grid_extent()-5)+2,0,0);\n",
    "final_Vel = Point((rand()-0.5)*vel_lim,(rand()-0.5)*vel_lim,0,0);\n",
    "final_Accel = Point((rand()-0.5)*accel_lim,(rand()-0.5)*accel_lim,0,0);\n",
    "q_coeff = zeros(6);\n",
    "#q_coeff[2] = 1;\n",
    "q_coeff[1]=0;\n",
    "q_coeff[2]=2;\n",
    "q_coeff[3] = 0;\n",
    "\n",
    "obstacleWeight = 10;\n",
    "lowerQeffs = 100000;\n",
    "iterations = 100;\n",
    "perturbStep = 0.01;\n",
    "perturbStep2 = 0.01;\n",
    "precision = 0.000001;\n",
    "dim = 2;\n",
    "max_vel = 2.0;\n",
    "max_accel = 0.65;\n",
    "max_jerk = 100.0;\n",
    "max_rpm = 100000000000.0;\n",
    "timeStep  = 0.005;\n",
    "aggressParam = 0.7;\n",
    "timeIncrease = 1;\n",
    "timeStart = 1.0;#sqrt((current_Pos.x-final_Pos.x)^2 + (current_Pos.y - final_Pos.y)^2)/max_vel;\n",
    "#############################################################################################\n",
    "#Changeable value\n",
    "num_free = 2;\n",
    "num_points = 2;\n",
    "\n",
    "#Read in the states avaiable in the order initials, finals\n",
    "\n",
    "    #if dijkstras create a velocity approximation from the two points assuming traversed in a second - this gets relaxed\n",
    "    #later in the verification step also note the lack of a final acceleration\n",
    "    x_constr = [current_Pos.x; current_Vel.x; current_Accel.x; (final_Pos.x - current_Pos.x)];\n",
    "    y_constr = [current_Pos.y; current_Vel.y; current_Accel.y;  (final_Pos.y - current_Pos.y)];\n",
    "    z_constr = [current_Pos.z; current_Vel.z; current_Accel.z;  (final_Pos.z - current_Pos.z)];\n",
    "\n",
    "#Set up the constraint matrix in the order initials, finals (plus another constraint for optimization)\n",
    "num_constr = length(x_constr)+num_free;\n",
    "#The two corresponds to acceleration being the 2nd derivative three \n",
    "#if dijkstras create a free variable of acceleration else create another constraint for jerk\n",
    "orders = [collect(0:2); collect(1:(2+flag));0];\n",
    "#Create time vector assuming 1 second for the final conditions and zero for the initial conditions\n",
    "#There are three zeros for three initial conditions\n",
    "#The last value is flag to be a one when fmt is used otherwise it will be in the vector as a zero that is never used\n",
    "times = [0.0;timeStart];\n",
    "timeIndex = [0;0;0;1;1;1;flag];\n",
    "#Calculate some numbers\n",
    "tot_degree = num_constr;\n",
    "\n",
    "\n",
    "#Set up A matrix so that Ap = d where p is the coefficients of the polynomial and d are the constraints in a vector\n",
    "A = zeros(tot_degree, tot_degree);\n",
    "for k=1:tot_degree\n",
    "    A[k,:] = constr_order(orders[k], times[timeIndex[k]+1],tot_degree);\n",
    "end\n",
    "#Calculate A inverse\n",
    "A_inv = inv(A);\n",
    "Au = A_inv;\n",
    "# Form Q matrix where cost = p'Qp without the costmap\n",
    "Q = form_Q(q_coeff, times[end]-times[1]); \n",
    "#Solve for the optimal ends with no costmap first\n",
    "R = A_inv'*(Q*A_inv);\n",
    "#short for optimizing matrix\n",
    "opt_mat = -( R[(tot_degree-num_free+1):tot_degree, (tot_degree-num_free+1):tot_degree])\\R[1:(tot_degree-num_free), \n",
    "    (tot_degree-num_free+1):tot_degree]';\n",
    "#Record the optimized value in a variable for later gradient descent; will only work for 1 free variable at the moment\n",
    "x_free = opt_mat * (x_constr) + [0;final_Pos.x];\n",
    "y_free = opt_mat * (y_constr) + [0;final_Pos.y];\n",
    "z_free = opt_mat * (z_constr) + [0;final_Pos.z];\n",
    "\n",
    "x_coeffs = A_inv * [x_constr; x_free];\n",
    "y_coeffs = A_inv * [y_constr; y_free];\n",
    "z_coeffs = A_inv * [z_constr; z_free];\n",
    "\n",
    "\n",
    "#Plot the poly optimized only for derivative costs\n",
    "figure()\n",
    "plotTimes = linspace(0,times[end],100);\n",
    "plot(evaluate_poly(x_coeffs,0,plotTimes), evaluate_poly(y_coeffs,0,plotTimes));\n",
    "imshow(temp_costmap,cmap=\"gray\", interpolation=\"none\",extent=[0,width,0,width])\n",
    "#Check the cost with the costmap by first finding the squares the path goes through\n",
    "#Find the cells of that the polynomial passes through; the last 5 inputs here are the three grid resolutions,\n",
    "# the dimension and an aggression param\n",
    "pcells,outOfBounds = occupancyCellChecker(x_coeffs, y_coeffs, z_coeffs, timeIndex, get_grid_resolution(), \n",
    "    get_grid_resolution(), get_grid_resolution(), dim, aggressParam,timeStep);\n",
    "println(pcells)\n",
    "#Check if out of bounds and avoid loop\n",
    "if(outOfBounds)\n",
    "    println(\"path went out of bounds\")\n",
    "    unOptimized = false;\n",
    "else\n",
    "    #The division by three is to normalize the costs from the coefficients#\n",
    "    cost1 = (x_coeffs' * Q * x_coeffs + y_coeffs' * Q * y_coeffs + z_coeffs' * Q * z_coeffs)/3/lowerQeffs +\n",
    "    obstacleWeight*sum(costmap[cells]);\n",
    "    x_coeffs, y_coeffs, z_coeffs, pcells, outOfBounds = crudyGradientDescent(iterations, perturbStep, x_coeffs, y_coeffs, \n",
    "        z_coeffs, times, dim, aggressParam, timeStep, Q, A_inv, x_constr, x_free,y_free, z_free, cost1, \n",
    "        costmap, perturbStep2)\n",
    "    #Set tcells to cells CELLS are broken and I do not know why\n",
    "\n",
    "end\n",
    "println(pcells)\n",
    "#Start repeat if not verified\n",
    "unverified = true;\n",
    "counter2 = 0;\n",
    "timeV = times[end];\n",
    "sol = PolySol(num_points-1, times, x_coeffs, y_coeffs, z_coeffs, zeros(size(z_coeffs,1))); \n",
    "while(unverified && !outOfBounds)\n",
    "    #verfiy path is feasible based on constraints    \n",
    "    errorTimes = verifyActuateablePath(sol, max_vel*timeV, max_accel*timeV^2, max_jerk*timeV^3, max_rpm, dim, 6+flag);\n",
    "    #println(errorTimes)\n",
    "    #Redo the calculation with a larger time if there are errors\n",
    "    if(!isempty(errorTimes) && counter2 < 100)\n",
    "        #Start a while loop to loop until the path is optimized\n",
    "        println(\"unverified\")\n",
    "        unverified = true;\n",
    "        counter2 += timeIncrease;\n",
    "        timeV += timeIncrease;\n",
    "    else\n",
    "        if(counter2 >= 100)\n",
    "            println(\"not verified in less than 100s\")\n",
    "        else\n",
    "            println(\"verified\")\n",
    "            println(\"Time of Path: \", timeV)\n",
    "        end\n",
    "        unverified = false;\n",
    "    \n",
    "    end\n",
    "end\n",
    "\n",
    "#Check if not out of bounds \n",
    "if(!outOfBounds)    \n",
    "    figure()\n",
    "    plotTimes = linspace(0,times[end],100);\n",
    "    plot(evaluate_poly(x_coeffs,0,plotTimes), evaluate_poly(y_coeffs,0,plotTimes));\n",
    "    scatter(current_Pos.x,current_Pos.y,color = \"red\")\n",
    "    scatter(final_Pos.x,final_Pos.y, color = \"orange\")\n",
    "    scatter(evaluate_poly(x_coeffs,0,1), evaluate_poly(y_coeffs,0,1),color= \"green\")\n",
    "    imshow(temp_costmap,cmap=\"gray\", interpolation=\"none\",extent=[0,width,0,width])\n",
    "     \n",
    "    #Plot occupancy grid\n",
    "    for d in pcells\n",
    "        costmap[d]=255;\n",
    "         #Flip costmap for ploting purposes\n",
    "        pcostmap = costmap[:,:,1];\n",
    "        temp_costmap = zeros(size(pcostmap,1),size(pcostmap,2))\n",
    "        for h =1:size(costmap,1)\n",
    "            for g = 1:size(costmap,2)\n",
    "                temp_costmap[h,g,1] = costmap[h,size(pcostmap,2)-g+1,1];\n",
    "            end\n",
    "        end\n",
    "        temp_costmap=temp_costmap';\n",
    "    end\n",
    "        figure()\n",
    "    plotTimes = linspace(0,times[end],100);\n",
    "    plot(evaluate_poly(x_coeffs,0,plotTimes), evaluate_poly(y_coeffs,0,plotTimes));\n",
    "    imshow(temp_costmap,cmap=\"gray\", interpolation=\"none\",extent=[0,width,0,width])\n",
    "end\n",
    "\n",
    "#Return path\n",
    "\n"
   ]
  },
  {
   "cell_type": "code",
   "execution_count": 42,
   "metadata": {
    "collapsed": false
   },
   "outputs": [
    {
     "name": "stderr",
     "output_type": "stream",
     "text": [
      "WARNING: Method definition crudyGradientDescent(Any, Any, Any, "
     ]
    },
    {
     "data": {
      "text/plain": [
       "crudyGradientDescent (generic function with 1 method)"
      ]
     },
     "execution_count": 42,
     "metadata": {},
     "output_type": "execute_result"
    },
    {
     "name": "stderr",
     "output_type": "stream",
     "text": [
      "Any, Any, Any, Any, Any, Any, Any, Any, Any, Any, Any, Any, Any, Any, Any) in module Main at In[40]:5 overwritten at In[42]:5.\n"
     ]
    }
   ],
   "source": []
  },
  {
   "cell_type": "code",
   "execution_count": null,
   "metadata": {
    "collapsed": false
   },
   "outputs": [],
   "source": [
    "workspace();"
   ]
  },
  {
   "cell_type": "code",
   "execution_count": null,
   "metadata": {
    "collapsed": true
   },
   "outputs": [],
   "source": []
  }
 ],
 "metadata": {
  "anaconda-cloud": {},
  "kernelspec": {
   "display_name": "Julia 0.5.0",
   "language": "julia",
   "name": "julia-0.5"
  },
  "language_info": {
   "file_extension": ".jl",
   "mimetype": "application/julia",
   "name": "julia",
   "version": "0.5.0"
  }
 },
 "nbformat": 4,
 "nbformat_minor": 0
}
