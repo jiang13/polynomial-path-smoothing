{
 "cells": [
  {
   "cell_type": "code",
   "execution_count": 1,
   "metadata": {
    "collapsed": false
   },
   "outputs": [
    {
     "data": {
      "text/plain": [
       "createDerivMat (generic function with 1 method)"
      ]
     },
     "execution_count": 1,
     "metadata": {},
     "output_type": "execute_result"
    }
   ],
   "source": [
    "#Include important files\n",
    "include(\"TestBestPlannerHeader.jl\")\n",
    "include(\"BestLocalPlannerGuts.jl\")\n"
   ]
  },
  {
   "cell_type": "code",
   "execution_count": 2,
   "metadata": {
    "collapsed": false,
    "scrolled": true
   },
   "outputs": [
    {
     "data": {
      "text/plain": [
       "PolyPathSolver([0.0],[0.0],[0.0],false,false,10,100)"
      ]
     },
     "execution_count": 2,
     "metadata": {},
     "output_type": "execute_result"
    }
   ],
   "source": [
    "#Construct the all the containers\n",
    "tuningI = TuningParams([0;1;0;1;0],  # q_coeff::Vector{Int64}\n",
    "                       [5000.0;5000.0],# softConstrWeights::Vector{Float64}\n",
    "                        0.0,  # numericVelWeight::Float64       \n",
    "                        0.0,  # obstacleWeight::Float64    \n",
    "                        0.0,  # derivativeWeight::Float64     \n",
    "                        1e-8, # precision::Float64              \n",
    "                        20,   # iterations::Int64      \n",
    "                        0.01, # timeStep::Float64     \n",
    "                        1.0,  # timeStart::Float64    \n",
    "                        0.7,  # aggressParam:Float64        \n",
    "                        0.1,  # timeIncrease::Float64            \n",
    "                        2.0,  # max_vel::Float64           \n",
    "                        0.65, # max_accel::Float64        \n",
    "                        10.0, # max_jerk::Float64             \n",
    "                        10,   # numberOfRandomRestarts::Int64   \n",
    "                        10,   # timeWeight::Float64    \n",
    "                        100); #timeRes::Int64   \n",
    "problem = PathProblem( [1.0 0.0 0.0;        # x\n",
    "                        1.0 0.0 0.0;        # y\n",
    "                        1.0 0.0 0.0],       # z  #start_config::Array{Float64,2}   \n",
    "                       [5.0;                # x\n",
    "                        6.0;                # y\n",
    "                        7.0]'',             # z #end_config::Array{Float64,2}      \n",
    "[true], # soft_constr::Vector{Bool}     \n",
    "                        true,               # DijkstraNotFMT::Bool          \n",
    "                        zeros(0,2),         # PconstrFixed::Array{Float64,2}  \n",
    "    #TODO: actually create a constructor function to construct the constr* and time index vectors\n",
    "                        zeros(0,2),         # PconstrFree::Array{Float64,2}       \n",
    "                        [0;0;0;1;1;1],      # PtimeIndex::Vector{Int64}       \n",
    "                        [0;1;2;0;1;2],      # PconstraintOrders::Vector{Int64}\n",
    "                        zeros(0,2),         # PconstraintSoft::Array{Float64,2}    \n",
    "                        false,              # isDim3::Bool                  \n",
    "                        1,                  # dof::{Int64}                   \n",
    "                        zeros(0,0,1),       # costmap::Array{Int8,3}         \n",
    "                        10.0,               # grid_extent::Float64  \n",
    "                        0.1,                # grid_resolution::Float64\n",
    "                        0,                  # Pgrid_elementNum::Int64 \n",
    "                        0)                  # Pdegree::Int64 \n",
    "solution = PathSol( 0.0,     # totTime::Float64 \n",
    "                    [0.0]'', # coeffs::Array{Float64,2}  \n",
    "                    [1],     # cells::Array{Int64,1}  \n",
    "                    0.0)     # cost::Float64         \n",
    "solvHelp = PolyPathSolver(  [0.0]'', #PA_inv::Array{Float64,2}           \n",
    "                            [0.0]'', #    PQ::Array{Float64,2}              \n",
    "                            [0.0]'', #    PoptimizeMatrix::Array{Float64,2}  \n",
    "                            false,   #    PoutOfBounds::Bool                 \n",
    "                            false,   #    PunVerified::Bool                \n",
    "                            10,      #    counterRestart::Int64             \n",
    "                            100);    #    counterVerified::Int64         "
   ]
  },
  {
   "cell_type": "code",
   "execution_count": null,
   "metadata": {
    "collapsed": false,
    "scrolled": true
   },
   "outputs": [],
   "source": [
    "#Do the lotus test\n",
    "lotusTest(  5.0,       # initial_distance::Float64, \n",
    "            tuningI,   # tuning::TuningParams, \n",
    "            2,         # number2Rotate::Int64,\n",
    "            2.0,       # distanceChange::Float64, \n",
    "            1,         # figureNum::Int64)\n",
    "            problem)   # pathProb::PathProblem"
   ]
  },
  {
   "cell_type": "code",
   "execution_count": null,
   "metadata": {
    "collapsed": false
   },
   "outputs": [],
   "source": [
    "#Easy Bump Test\n",
    "easyAvoidBumpTest(  tuningI,# bumpTuning::TuningParams, \n",
    "                    problem,# pathProblem::PathProblem, \n",
    "                    5000,   # bumpSize::Int64)\n",
    "                    2,      # figNum::Int64 = 1\n",
    "                    7.0)    # bumpYLoc::Float64 default is 5.0"
   ]
  },
  {
   "cell_type": "code",
   "execution_count": null,
   "metadata": {
    "collapsed": false
   },
   "outputs": [],
   "source": [
    "#Doorway Test\n",
    "#TODO: make params more understandable/consistent with user expectations\n",
    "#TODO: Add input validation to this test\n",
    "doorwayTest(tuningI,#wallTuning::TuningParams, \n",
    "            problem,#pathProblem::PathProblem, \n",
    "            30,     #wallSize::Int64, \n",
    "            3,      #figNum::Int64, \n",
    "            7.0,    #doorYLoc::Float64, \n",
    "            10.0,   #doorWidth::Float64)\n",
    "            true,   #wallBehindDoor::Bool = false, \n",
    "            1.5)    #wallDistance::Float64 = 2.0"
   ]
  },
  {
   "cell_type": "code",
   "execution_count": null,
   "metadata": {
    "collapsed": false,
    "scrolled": true
   },
   "outputs": [],
   "source": [
    "#Hallway Test\n",
    "#TODO: Add input validation to this test\n",
    "hallwayTest(tuningI,#hallTuning::TuningParams, \n",
    "            problem,#pathProblem::PathProblem, \n",
    "            35,     #wallSize::Int64, \n",
    "            4)      #figNum::Int64)"
   ]
  },
  {
   "cell_type": "code",
   "execution_count": null,
   "metadata": {
    "collapsed": false
   },
   "outputs": [],
   "source": [
    "#Random Tuning/Problem Variation Test\n",
    "#Descritption - the tuning parameters will be varied through a range of values for a constant path problem. Only\n",
    "# one thing changes\n",
    "#Requires heavy user input\n",
    "#This is the Skeleton of the process and a specific variable should be used\n",
    "#Set bottom value\n",
    "#Set top value\n",
    "#Create range between those values\n",
    "#Loop through the range \n",
    "#Set the current value to its appropriate spot in the object\n",
    "#Run the planner\n",
    "#Plot\n",
    "#End Loop"
   ]
  },
  {
   "cell_type": "code",
   "execution_count": null,
   "metadata": {
    "collapsed": false
   },
   "outputs": [],
   "source": [
    "#Random Ros Bag Test\n",
    "#Description - read in a ros bag's costmap and path for that costmap\n",
    "#Inputs\n",
    "# rosbag\n",
    "#Expected Outcomes - a plot \n",
    "\n",
    "#Pseudo code since I do not know how to do this in Julia yet\n",
    "#Read in rosbag\n",
    "#Record a coinciding costmap and global path\n",
    "#Translate to odom frame\n",
    "#Pick local goals\n",
    "#Start timer\n",
    "#Run path planner\n",
    "#If unsuccessful choose a different goal until out of goals or successful\n",
    "#End timer\n",
    "#Print time\n",
    "#Plot planned path over the costmap"
   ]
  },
  {
   "cell_type": "code",
   "execution_count": 69,
   "metadata": {
    "collapsed": false,
    "scrolled": false
   },
   "outputs": [
    {
     "ename": "LoadError",
     "evalue": "LoadError: Only exponents of 0, 1, or 2 are currently supported. Are you trying to build a nonlinear problem? Make sure you use @NLconstraint/@NLobjective.\nwhile loading In[69], in expression starting on line 54",
     "output_type": "error",
     "traceback": [
      "LoadError: Only exponents of 0, 1, or 2 are currently supported. Are you trying to build a nonlinear problem? Make sure you use @NLconstraint/@NLobjective.\nwhile loading In[69], in expression starting on line 54",
      "",
      " in ^(::JuMP.GenericAffExpr{Float64,JuMP.Variable}, ::Int64) at C:\\Users\\tmurphy10\\.julia\\v0.5\\JuMP\\src\\operators.jl:123",
      " in optimizeJump(::PathSol, ::TuningParams, ::PolyPathSolver, ::PathProblem, ::Array{Float64,2}, ::Array{Float64,2}, ::Array{Float64,2}) at .\\In[68]:103"
     ]
    }
   ],
   "source": [
    "#Psuedo Code\n",
    "\n",
    "#Initialize solver and solution\n",
    "solution = PathSol( 0.0,     # totTime::Float64 \n",
    "                    [0.0]'', # coeffs::Array{Float64,2}  \n",
    "                    [1],     # cells::Array{Int64,1}  \n",
    "                    0.0)     # cost::Float64         \n",
    "solvHelp = PolyPathSolver(  [0.0]'', #PA_inv::Array{Float64,2}           \n",
    "                            [0.0]'', #    PQ::Array{Float64,2}              \n",
    "                            [0.0]'', #    PoptimizeMatrix::Array{Float64,2}  \n",
    "                            false,   #    PoutOfBounds::Bool                 \n",
    "                            false,   #    PunVerified::Bool                \n",
    "                            10,      #    counterRestart::Int64             \n",
    "                            100);    #    counterVerified::Int64         \n",
    "\n",
    "#If dijkstras Create a normalized direction vector\n",
    "if(problem.DijkstraNotFMT)\n",
    "    addDirectedSpeed!(problem, tuningI.max_vel);\n",
    "end\n",
    "\n",
    "#Construct the constraint vectors, orders, and timeIndex given start, end, dof and soft constraint vectors\n",
    "#TODO: make void functions with pointers to avoid so much copying\n",
    "problem = constructConstr(problem)\n",
    "\n",
    "#initialize time and while loop until verified #increment time?\n",
    "solution.totTime = 7.0;\n",
    "\n",
    "#Form A_inv\n",
    "solvHelp.PA_inv = constr_Ainv(  problem.PconstraintOrders,\n",
    "                                problem.PtimeIndex*solution.totTime, #Multiply by the total time for proper function\n",
    "                                problem.Pdegree);\n",
    "\n",
    "#Add/subtract stuff to/from q_coeff if not equal to the degree\n",
    "tuningI.q_coeff = checkQcoeffs(tuningI.q_coeff, problem.Pdegree)\n",
    "\n",
    "#Form Q\n",
    "solvHelp.PQ = form_Q(tuningI.q_coeff,solution.totTime);\n",
    "\n",
    "#Form OptimizeMat\n",
    "solvHelp.PoptimizeMatrix = form_OptimizeMat(problem,tuningI,solvHelp);\n",
    "\n",
    "#update the free constraints as necessary\n",
    "problem.PconstrFree = updateFreeConstr(problem,solvHelp);\n",
    "\n",
    "#solve for the polynomial coefficients\n",
    "solution.coeffs = solvePolysInitially(problem,solvHelp);\n",
    "\n",
    "#Create vel, accel, and jerk matrices\n",
    "#TODO: Make better with a loop or another function?\n",
    "matVel = createDerivMat(problem.Pdegree, 1);\n",
    "matAcc = createDerivMat(problem.Pdegree, 2);\n",
    "matJerk = createDerivMat(problem.Pdegree, 3);\n",
    "\n",
    "println(optimizeJump(solution,tuningI,solvHelp,problem,matVel,matAcc,matJerk))\n",
    "\n",
    "#3)CHECK in bounds and collect the cells\n",
    "\n",
    "#1)OPTIMIZE free constraints with limits built in; 2)COST function\n",
    "\n",
    "#SOLVE for the polynomial coefficients\n",
    "\n",
    "#CHECK in bounds and collect the cells\n",
    "\n",
    "#end while loop\n",
    "\n",
    "\n",
    "#PLOT optimized function?\n",
    "\n",
    "#Return path"
   ]
  },
  {
   "cell_type": "code",
   "execution_count": 68,
   "metadata": {
    "collapsed": false
   },
   "outputs": [
    {
     "name": "stderr",
     "output_type": "stream",
     "text": [
      "WARNING: Method definition optimizeJump(Any, Any"
     ]
    },
    {
     "data": {
      "text/plain": [
       "optimizeJump (generic function with 1 method)"
      ]
     },
     "execution_count": 68,
     "metadata": {},
     "output_type": "execute_result"
    },
    {
     "name": "stderr",
     "output_type": "stream",
     "text": [
      ", Any, Any, Any, Any, Any) in module Main at In[66]:40 overwritten at In[68]:40.\n"
     ]
    }
   ],
   "source": [
    "#Create the optimization function for use in JuMP\n",
    "#Desription: \n",
    "#Assumptions\n",
    "#Inputs\n",
    "# initSol - a PolySol type of the initial solution to optimize from\n",
    "# theTuning - a TuningParams type for determing constraints and weights:\n",
    "#   numericVelWeight::Float64          # The weight for the cost for not being at max_vel at any time\n",
    "#   obstacleWeight::Float64            # The weight for the cost of going through a cell in the costmap\n",
    "#   derivativeWeight::Float64          # The weight for the combined derivative cost term\n",
    "#   precision::Float64                 # The tolerance to solve within\n",
    "#   iterations::Int64                  # Number of times to do optimization step\n",
    "#   aggressParam::Float64              # Closer to 0 means check every point on the path, infinity => check no points\n",
    "#   max_vel::Float64                   # Max total velocity the path is restricted to\n",
    "#   max_accel::Float64                 # Max total acceleration the path is restricted to\n",
    "#   max_jerk::Float64                  # Max total jerk the path is restricted to\n",
    "#   timeWeight::Float64                # Weight applied to time\n",
    "#   timeRes::Int64                     # How many points for determining limits and constraints\n",
    "# solvStuff - the PolyPathSolver with the following parameters to help create the objective function:\n",
    "#   PA_inv::Array{Float64,2}           # The matrix that transforms constraints to coefficients A_inv*d=p\n",
    "#   PQ::Array{Float64,2}               # Matrix representation of the q_coeff weights\n",
    "#   PoptimizeMatrix::Array{Float64,2}  # Gives the optimal free/soft constraints given fixed constraints\n",
    "#   PoutOfBounds::Bool                 # True if path ever goes outside the costmap scope\n",
    "# problem - the PathProblem type that has the initial conditions and dimension flag:\n",
    "#   PconstrFixed::Array{Float64,2}   # All fixed constraints\n",
    "#   PconstrFree::Array{Float64,2}    # A holder for all soft and free contraints\n",
    "#   isDim3::Bool                     # The flag for 3D; 2 will be added later so the dimension is only 2 or 3\n",
    "#   costmap::Array{Int8,3}           # The 3D voxel occupancy grid\n",
    "#   grid_extent::Float64             # The extent of the cost map in meters\n",
    "#   grid_resolution::Float64         # The resolution of the cost map in meters\n",
    "#   Pgrid_elementNum::Int64          # The max index of the grid of the cost map\n",
    "# velMatrix - a matrix that turns a poly coeff vector into the poly coeff vector of the poly's 1st derivative\n",
    "# accMatrix - a matrix that turns a poly coeff vector into the poly coeff vector of the poly's 2nd derivative\n",
    "# jerkMatrix - a matrix that turns a poly coeff vector into the poly coeff vector of the poly's 3rd derivative\n",
    "#Outputs\n",
    "# solvSol - the optimized solution in the form the minimizing free constraints\n",
    "# successful - a boolean that communicates success if true failure otherwise\n",
    "function optimizeJump(initSol,theTuning,solvStuff,prob,velMatrix,accMatrix,jerkMatrix)\n",
    "    ##Create model\n",
    "    #Call the Model function\n",
    "    m = Model()\n",
    "    #Create a dim variable to know the dimension\n",
    "    dim = prob.isDim3+2;\n",
    "    ##Create variables\n",
    "    #Create the free constraint variable starting\n",
    "    #TODO: find a way to remove the length call (maybe add to one of the objects holders)\n",
    "    #find the length of the free variables to determine how many there are to change and add one for time\n",
    "    lenFree = size(prob.PconstrFree,2);\n",
    "    #       Model,      Variable name,                Actual initial values of the constraints\n",
    "    @variable(  m, free[1:dim, 1:lenFree])#, start = [prob.PconstrFree]) \n",
    "    for i in 1:dim\n",
    "        for j in 1:lenFree\n",
    "            setvalue(free[i,j], prob.PconstrFree[i,j]);\n",
    "        end\n",
    "    end\n",
    "    #Create the time variable\n",
    "    @variable( m, timeVar, start = initSol.totTime)\n",
    "    #Create fixed variable for the fixed constraints\n",
    "    @variable( m, fixed[d = 1:dim,f = 1:prob.Pdegree-lenFree,] == prob.PconstrFixed[d,f])\n",
    "    \n",
    "    #TODO: see if for loops work here: not sure it would since it is now a symbol \n",
    "    #TODO: think of better way of dealing with the ability to have 2 or 3 dimensions\n",
    "    #Create a d matrix to hold the respective d vectors as rows and the p's\n",
    "    dVecs = [fixed[1,:]' free[1,:]'];\n",
    "    p =  (solvStuff.PA_inv * dVecs');\n",
    "    for i = 2:(prob.isDim3+2)\n",
    "        dVecs = [dVecs; fixed[i,:]' free[i,:]'];\n",
    "        p = [p (solvStuff.PA_inv * dVecs[i,:])];\n",
    "    end\n",
    "    #Create the expression for the derivatives\n",
    "    if(prob.isDim3)\n",
    "        derivExpr = (p[:,1])' *          #p^T\n",
    "                        solvStuff.PQ *   #Q\n",
    "                        (p[:,1]) +       #p -> x coefficients cost\n",
    "                     (p[:,2])' *         #p^T\n",
    "                        solvStuff.PQ *   #Q\n",
    "                        (p[:,2]) +       #p -> y coefficients cost\n",
    "                     (p[:,3])' *         #p^T\n",
    "                        solvStuff.PQ *   #Q\n",
    "                        (p[:,3]);        #p -> z coefficients cost\n",
    "    else\n",
    "        derivExpr = (p[:,1])' *          #p^T\n",
    "                        solvStuff.PQ *   #Q\n",
    "                        (p[:,1]) +       #p -> x coefficients cost\n",
    "                     (p[:,2])' *         #p^T\n",
    "                        solvStuff.PQ *   #Q\n",
    "                        (p[:,2]);        #p -> y coefficients cost\n",
    "    end\n",
    "\n",
    "\n",
    "    #TODO: Create maximizing velocity expression if needed: thought is that the time cost will deal with this\n",
    "    #Create the time expression\n",
    "    timeExpr = theTuning.timeWeight * timeVar;\n",
    "    ##Create Constraints\n",
    "    #Create a time vector to check the constraints and costs on\n",
    "    checkTimes = [0.0];\n",
    "    for i = 1:theTuning.timeRes\n",
    "        checkTimes = [checkTimes i*timeVar/(theTuning.timeRes)];\n",
    "    end\n",
    "    for t in checkTimes\n",
    "        #Create a T row vector\n",
    "        T = [1.0]\n",
    "        for j = 1:prob.Pdegree-1\n",
    "            T = [T t^j]\n",
    "        end\n",
    "        #Create the position constraints: This will make checking out of bounds obsolete most of time\n",
    "        for i = 1:dim\n",
    "            @NLconstraint(m, T*p[:,i] <= prob.grid_extent) #upper position bound\n",
    "            @NLconstraint(m, T*p[:,i] >= 0) #lower position bounds\n",
    "        end\n",
    "        #initialize mapExpr\n",
    "        mapExpr = 0;\n",
    "        if(prob.isDim3)\n",
    "            #Create the velocity constraints: This will make verification steps obsolete\n",
    "            @NLconstraint(m, norm(T*velMatrix*[p[:,1] p[:,2] p[:,3]]) <= theTuning.max_vel)\n",
    "            #Create the acceleration constraints: This will make verification steps obsolete\n",
    "            @NLconstraint(m, norm(T*accMatrix*[p[:,1] p[:,2] p[:,3]]) <= theTuning.max_accel)\n",
    "            #Create the jerk constraints: This will make verification steps obsolete\n",
    "            @NLconstraint(m, norm(T*jerkMatrix*[p[:,1] p[:,2] p[:,3]]) <= theTuning.max_jerk)\n",
    "            #Create the costmap expression\n",
    "            mapExpr += prob.costmap[T*[p[:,1],p[:,2],p[:,3]]];\n",
    "        else\n",
    "            #Create the velocity constraints: This will make verification steps obsolete\n",
    "            @NLconstraint(m, norm(T*velMatrix*[p[:,1] p[:,2] p[:,3]]) <= theTuning.max_vel)\n",
    "            #Create the acceleration constraints: This will make verification steps obsolete\n",
    "            @NLconstraint(m, norm(T*accMatrix*[p[:,1] p[:,2] p[:,3]]) <= theTuning.max_accel)\n",
    "            #Create the jerk constraints: This will make verification steps obsolete\n",
    "            @NLconstraint(m, norm(T*jerkMatrix*[p[:,1] p[:,2] p[:,3]]) <= theTuning.max_jerk)\n",
    "            #Create the costmap expression\n",
    "            mapExpr += prob.costmap[T*[p[:,1],p[:,2],1]];\n",
    "        end\n",
    "    end\n",
    "    #Multply costmap by weight\n",
    "    mapExpr *= theTuning.ObstacleWeight;\n",
    "    ##Create nonlinear objective function from all the expressions\n",
    "    #This requires auxillary variables in order to be used\n",
    "    @variable(m, auxTime == timeExpr)\n",
    "    @NLobjective(m, Min, derivExpr + mapExpr + timeExpr)\n",
    "    #@objective(m, Min, derivExpr + mapExpr + timeExpr) #for testing later\n",
    "    ##Solve\n",
    "    #Solve for the given amount of iterations\n",
    "    solve(m)\n",
    "    ##Update the appropriate variables\n",
    "    #Recreate a d matrix and the p's\n",
    "    for i = 1:dim\n",
    "        dVecs[i,:] = [prob.PconstrFixed[i,:]' free[i,:]];\n",
    "        p[:,i] = (solvStuff.PA_inv * dVecs[i,:]');\n",
    "    end\n",
    "    return getvalue(free);\n",
    "end\n"
   ]
  },
  {
   "cell_type": "code",
   "execution_count": null,
   "metadata": {
    "collapsed": false
   },
   "outputs": [],
   "source": [
    "using JuMP\n",
    "m = Model()\n",
    "@variable(m, x, start = 0.0)\n",
    "@variable(m, y, start = 0.0)\n",
    "\n",
    "@NLobjective(m, Min, (1-x)^2 + 100(y-x^2)^2)\n",
    "\n",
    "solve(m)\n",
    "println(\"x = \", getvalue(x), \" y = \", getvalue(y))\n",
    "\n",
    "# adding a (linear) constraint\n",
    "@constraint(m, x + y == 10)\n",
    "solve(m)\n",
    "println(\"x = \", getvalue(x), \" y = \", getvalue(y))"
   ]
  },
  {
   "cell_type": "code",
   "execution_count": null,
   "metadata": {
    "collapsed": true
   },
   "outputs": [],
   "source": []
  }
 ],
 "metadata": {
  "anaconda-cloud": {},
  "kernelspec": {
   "display_name": "Julia 0.5.0",
   "language": "julia",
   "name": "julia-0.5"
  },
  "language_info": {
   "file_extension": ".jl",
   "mimetype": "application/julia",
   "name": "julia",
   "version": "0.5.0"
  }
 },
 "nbformat": 4,
 "nbformat_minor": 0
}
