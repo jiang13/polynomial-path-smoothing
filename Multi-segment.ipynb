{
 "cells": [
  {
   "cell_type": "code",
   "execution_count": null,
   "metadata": {
    "collapsed": true
   },
   "outputs": [],
   "source": [
    "workspace();"
   ]
  },
  {
   "cell_type": "code",
   "execution_count": null,
   "metadata": {
    "collapsed": false
   },
   "outputs": [],
   "source": [
    "#include(\"poly_helper.jl\")\n",
    "#include(\"VerificationFunction.jl\")\n",
    "\n",
    "#num_points=2\n",
    "#cont_order = 3;\n",
    "#prob = random_poly_prob(num_points,cont_order);                                                                                     \n",
    "#params = PolyParams(cont_order);\n",
    "#sol = poly_smoothing(prob, params) \n",
    "#plot_poly(sol,1);\n",
    "#plot_poly_dim(sol,2,\"x\")\n",
    "#plot_poly_dim(sol,3,\"y\")\n",
    "\n",
    "#Max Velocity and Acceleration taken from what is used in pikachu launch files\n",
    "#Max Jerk guessed\n",
    "#verifyActuateablePath(sol, 2.0, 0.65, 2.0, 100000000000000.0);"
   ]
  },
  {
   "cell_type": "code",
   "execution_count": 10,
   "metadata": {
    "collapsed": false
   },
   "outputs": [
    {
     "name": "stderr",
     "output_type": "stream",
     "text": [
      "WARNING: Method definition (::Type{Main.PolyProblem})"
     ]
    },
    {
     "ename": "LoadError",
     "evalue": "LoadError: Base.LinAlg.SingularException(7)\nwhile loading In[10], in expression starting on line 9",
     "output_type": "error",
     "traceback": [
      "LoadError: Base.LinAlg.SingularException(7)\nwhile loading In[10], in expression starting on line 9",
      "",
      " in inv! at .\\linalg\\lu.jl:232 [inlined]",
      " in inv(::Base.LinAlg.LU{Float64,Array{Float64,2}}) at .\\linalg\\lu.jl:233",
      " in inv(::Array{Float64,2}) at .\\linalg\\dense.jl:364",
      " in connect_points(::Array{Point,1}, ::Array{Point,1}, ::Array{Float64,1}) at C:\\Users\\tmurphy10\\Documents\\ShieldAi\\polynomial-path-smoothing\\poly_helper.jl:1211",
      " in test_tester() at C:\\Users\\tmurphy10\\Documents\\ShieldAi\\polynomial-path-smoothing\\test.jl:99"
     ]
    },
    {
     "name": "stderr",
     "output_type": "stream",
     "text": [
      "(Array{Float64, 1}, Array{Float64, 1}, Array{Float64, 1}, Array{Float64, 1}, Array{Int64, 1}, Array{Int64, 1}, Array{Float64, 1}, Float64) in module Main at C:\\Users\\tmurphy10\\Documents\\ShieldAi\\polynomial-path-smoothing\\poly_helper.jl:5 overwritten at C:\\Users\\tmurphy10\\Documents\\ShieldAi\\polynomial-path-smoothing\\poly_helper.jl:5.\n",
      "WARNING: Method definition (::Type{Main.PolyProblem})(Any, Any, Any, Any, Any, Any, Any, Any) in module Main at C:\\Users\\tmurphy10\\Documents\\ShieldAi\\polynomial-path-smoothing\\poly_helper.jl:5 overwritten at C:\\Users\\tmurphy10\\Documents\\ShieldAi\\polynomial-path-smoothing\\poly_helper.jl:5.\n",
      "WARNING: Method definition (::Type{Main.PolyParams})(Int64) in module Main at C:\\Users\\tmurphy10\\Documents\\ShieldAi\\polynomial-path-smoothing\\poly_helper.jl:17 overwritten at C:\\Users\\tmurphy10\\Documents\\ShieldAi\\polynomial-path-smoothing\\poly_helper.jl:17.\n",
      "WARNING: Method definition (::Type{Main.PolyParams})(Any) in module Main at C:\\Users\\tmurphy10\\Documents\\ShieldAi\\polynomial-path-smoothing\\poly_helper.jl:17 overwritten at C:\\Users\\tmurphy10\\Documents\\ShieldAi\\polynomial-path-smoothing\\poly_helper.jl:17.\n",
      "WARNING: Method definition (::Type{Main.PolySol})(Main.PolyProblem, Main.PolyParams, Int64, Array{Float64, 1}, Array{Float64, 1}, Array{Float64, 1}, Array{Float64, 1}, Array{Float64, 1}) in module Main at C:\\Users\\tmurphy10\\Documents\\ShieldAi\\polynomial-path-smoothing\\poly_helper.jl:21 overwritten at C:\\Users\\tmurphy10\\Documents\\ShieldAi\\polynomial-path-smoothing\\poly_helper.jl:21.\n",
      "WARNING: Method definition (::Type{Main.PolySol})(Any, Any, Any, Any, Any, Any, Any, Any) in module Main at C:\\Users\\tmurphy10\\Documents\\ShieldAi\\polynomial-path-smoothing\\poly_helper.jl:21 overwritten at C:\\Users\\tmurphy10\\Documents\\ShieldAi\\polynomial-path-smoothing\\poly_helper.jl:21.\n",
      "WARNING: Method definition (::Type{Main.Point})(Float64, Float64, Float64, Float64) in module Main at C:\\Users\\tmurphy10\\Documents\\ShieldAi\\polynomial-path-smoothing\\poly_helper.jl:35 overwritten at C:\\Users\\tmurphy10\\Documents\\ShieldAi\\polynomial-path-smoothing\\poly_helper.jl:35.\n",
      "WARNING: Method definition (::Type{Main.Point})(Any, Any, Any, Any) in module Main at C:\\Users\\tmurphy10\\Documents\\ShieldAi\\polynomial-path-smoothing\\poly_helper.jl:35 overwritten at C:\\Users\\tmurphy10\\Documents\\ShieldAi\\polynomial-path-smoothing\\poly_helper.jl:35.\n",
      "WARNING: Method definition (::Type{Main.poly_segment})(Array{Float64, 1}, Array{Float64, 1}, Array{Float64, 1}, Array{Float64, 1}, Float64, Float64, Array{Int64, 1}, Array{Main.Point, 1}, Array{Main.Point, 1}) in module Main at C:\\Users\\tmurphy10\\Documents\\ShieldAi\\polynomial-path-smoothing\\poly_helper.jl:42 overwritten at C:\\Users\\tmurphy10\\Documents\\ShieldAi\\polynomial-path-smoothing\\poly_helper.jl:42.\n",
      "WARNING: Method definition (::Type{Main.poly_segment})(Any, Any, Any, Any, Any, Any, Any, Any, Any) in module Main at C:\\Users\\tmurphy10\\Documents\\ShieldAi\\polynomial-path-smoothing\\poly_helper.jl:42 overwritten at C:\\Users\\tmurphy10\\Documents\\ShieldAi\\polynomial-path-smoothing\\poly_helper.jl:42.\n",
      "WARNING: Method definition random_poly_prob(Int64, Any) in module Main at C:\\Users\\tmurphy10\\Documents\\ShieldAi\\polynomial-path-smoothing\\poly_helper.jl:58 overwritten at C:\\Users\\tmurphy10\\Documents\\ShieldAi\\polynomial-path-smoothing\\poly_helper.jl:58.\n",
      "WARNING: Method definition print_poly_prob(Main.PolyProblem) in module Main at C:\\Users\\tmurphy10\\Documents\\ShieldAi\\polynomial-path-smoothing\\poly_helper.jl:102 overwritten at C:\\Users\\tmurphy10\\Documents\\ShieldAi\\polynomial-path-smoothing\\poly_helper.jl:102.\n",
      "WARNING: Method definition plot_poly_dim(Main.PolySol, Any, Any) in module Main at C:\\Users\\tmurphy10\\Documents\\ShieldAi\\polynomial-path-smoothing\\poly_helper.jl:116 overwritten at C:\\Users\\tmurphy10\\Documents\\ShieldAi\\polynomial-path-smoothing\\poly_helper.jl:116.\n",
      "WARNING: Method definition plot_poly(Main.PolySol, Any) in module Main at C:\\Users\\tmurphy10\\Documents\\ShieldAi\\polynomial-path-smoothing\\poly_helper.jl:202 overwritten at C:\\Users\\tmurphy10\\Documents\\ShieldAi\\polynomial-path-smoothing\\poly_helper.jl:202.\n",
      "WARNING: Method definition form_Q(Any, Any) in module Main at C:\\Users\\tmurphy10\\Documents\\ShieldAi\\polynomial-path-smoothing\\poly_helper.jl:281 overwritten at C:\\Users\\tmurphy10\\Documents\\ShieldAi\\polynomial-path-smoothing\\poly_helper.jl:281.\n",
      "WARNING: Method definition constr_order(Any, Any, Any) in module Main at C:\\Users\\tmurphy10\\Documents\\ShieldAi\\polynomial-path-smoothing\\poly_helper.jl:307 overwritten at C:\\Users\\tmurphy10\\Documents\\ShieldAi\\polynomial-path-smoothing\\poly_helper.jl:307.\n",
      "WARNING: Method definition form_Abig(Main.PolyProblem, Main.PolyParams, Array{Float64, 1}) in module Main at C:\\Users\\tmurphy10\\Documents\\ShieldAi\\polynomial-path-smoothing\\poly_helper.jl:330 overwritten at C:\\Users\\tmurphy10\\Documents\\ShieldAi\\polynomial-path-smoothing\\poly_helper.jl:330.\n",
      "WARNING: Method definition form_Qbig(Any, Any, Any, Any) in module Main at C:\\Users\\tmurphy10\\Documents\\ShieldAi\\polynomial-path-smoothing\\poly_helper.jl:455 overwritten at C:\\Users\\tmurphy10\\Documents\\ShieldAi\\polynomial-path-smoothing\\poly_helper.jl:455.\n",
      "WARNING: Method definition poly_smoothing(Main.PolyProblem, Main.PolyParams) in module Main at C:\\Users\\tmurphy10\\Documents\\ShieldAi\\polynomial-path-smoothing\\poly_helper.jl:626 overwritten at C:\\Users\\tmurphy10\\Documents\\ShieldAi\\polynomial-path-smoothing\\poly_helper.jl:626.\n",
      "WARNING: Method definition time_multiseg() in module Main at C:\\Users\\tmurphy10\\Documents\\ShieldAi\\polynomial-path-smoothing\\poly_helper.jl:690 overwritten at C:\\Users\\tmurphy10\\Documents\\ShieldAi\\polynomial-path-smoothing\\poly_helper.jl:690.\n",
      "WARNING: Method definition test_multiseg(Any) in module Main at C:\\Users\\tmurphy10\\Documents\\ShieldAi\\polynomial-path-smoothing\\poly_helper.jl:717 overwritten at C:\\Users\\tmurphy10\\Documents\\ShieldAi\\polynomial-path-smoothing\\poly_helper.jl:717.\n",
      "WARNING: Method definition evaluate_poly(Array{Float64, 1}, Int64, Any) in module Main at C:\\Users\\tmurphy10\\Documents\\ShieldAi\\polynomial-path-smoothing\\poly_helper.jl:737 overwritten at C:\\Users\\tmurphy10\\Documents\\ShieldAi\\polynomial-path-smoothing\\poly_helper.jl:737.\n",
      "WARNING: Method definition verifyActuateablePath(Main.PolySol, Float64, Float64, Float64, Float64) in module Main at C:\\Users\\tmurphy10\\Documents\\ShieldAi\\polynomial-path-smoothing\\poly_helper.jl:774 overwritten at C:\\Users\\tmurphy10\\Documents\\ShieldAi\\polynomial-path-smoothing\\poly_helper.jl:774.\n",
      "WARNING: Method definition occupancyCellChecker(Main.PolySol, Float64, Float64, Float64, Int64, Float64) in module Main at C:\\Users\\tmurphy10\\Documents\\ShieldAi\\polynomial-path-smoothing\\poly_helper.jl:966 overwritten at C:\\Users\\tmurphy10\\Documents\\ShieldAi\\polynomial-path-smoothing\\poly_helper.jl:966.\n",
      "WARNING: Method definition connect_points(Array{Main.Point, 1}, Array{Main.Point, 1}, Any) in module Main at C:\\Users\\tmurphy10\\Documents\\ShieldAi\\polynomial-path-smoothing\\poly_helper.jl:1102 overwritten at C:\\Users\\tmurphy10\\Documents\\ShieldAi\\polynomial-path-smoothing\\poly_helper.jl:1102.\n",
      "WARNING: Method definition get_grid_extent() in module Main at C:\\Users\\tmurphy10\\Documents\\ShieldAi\\polynomial-path-smoothing\\test.jl:26 overwritten at C:\\Users\\tmurphy10\\Documents\\ShieldAi\\polynomial-path-smoothing\\test.jl:26.\n",
      "WARNING: Method definition get_grid_resolution() in module Main at C:\\Users\\tmurphy10\\Documents\\ShieldAi\\polynomial-path-smoothing\\test.jl:29 overwritten at C:\\Users\\tmurphy10\\Documents\\ShieldAi\\polynomial-path-smoothing\\test.jl:29.\n",
      "WARNING: Method definition occupancy_check(Float64, Float64, Float64) in module Main at C:\\Users\\tmurphy10\\Documents\\ShieldAi\\polynomial-path-smoothing\\test.jl:34 overwritten at C:\\Users\\tmurphy10\\Documents\\ShieldAi\\polynomial-path-smoothing\\test.jl:34.\n",
      "WARNING: Method definition occupancy_check(Int64) in module Main at C:\\Users\\tmurphy10\\Documents\\ShieldAi\\polynomial-path-smoothing\\test.jl:40 overwritten at C:\\Users\\tmurphy10\\Documents\\ShieldAi\\polynomial-path-smoothing\\test.jl:40.\n",
      "WARNING: Method definition occupancy_get_id(Any, Any, Any) in module Main at C:\\Users\\tmurphy10\\Documents\\ShieldAi\\polynomial-path-smoothing\\test.jl:45 overwritten at C:\\Users\\tmurphy10\\Documents\\ShieldAi\\polynomial-path-smoothing\\test.jl:45.\n",
      "WARNING: Method definition check_poly_segment(Main.poly_segment) in module Main at C:\\Users\\tmurphy10\\Documents\\ShieldAi\\polynomial-path-smoothing\\test.jl:54 overwritten at C:\\Users\\tmurphy10\\Documents\\ShieldAi\\polynomial-path-smoothing\\test.jl:54.\n",
      "WARNING: Method definition test_tester() in module Main at C:\\Users\\tmurphy10\\Documents\\ShieldAi\\polynomial-path-smoothing\\test.jl:99 overwritten at C:\\Users\\tmurphy10\\Documents\\ShieldAi\\polynomial-path-smoothing\\test.jl:99.\n"
     ]
    }
   ],
   "source": [
    "include(\"test.jl\")\n",
    "    q_coeff = zeros(7);\n",
    "    q_coeff[1] = 0.0;\n",
    "    q_coeff[2] = 0.0;\n",
    "    q_coeff[3] = 1.0;\n",
    "    q_coeff[4] = 0.0;\n",
    "#connect_points([Point(0.0,0.0,0.0,0.0);Point(0.0,0.0,0.0,0.0);Point(0.0,0.0,0.0,0.0)], \n",
    "#[Point(1.0,1.0,1.0,0.0);Point(0.0,0.0,0.0,0.0);Point(0.0,0.0,0.0,0.0)], q_coeff);\n",
    "test_tester();"
   ]
  },
  {
   "cell_type": "code",
   "execution_count": null,
   "metadata": {
    "collapsed": true
   },
   "outputs": [],
   "source": []
  },
  {
   "cell_type": "code",
   "execution_count": null,
   "metadata": {
    "collapsed": true
   },
   "outputs": [],
   "source": []
  }
 ],
 "metadata": {
  "anaconda-cloud": {},
  "kernelspec": {
   "display_name": "Julia 0.5.0",
   "language": "julia",
   "name": "julia-0.5"
  },
  "language_info": {
   "file_extension": ".jl",
   "mimetype": "application/julia",
   "name": "julia",
   "version": "0.5.0"
  }
 },
 "nbformat": 4,
 "nbformat_minor": 1
}
