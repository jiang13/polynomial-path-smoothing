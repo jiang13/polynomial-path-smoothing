{
 "cells": [
  {
   "cell_type": "code",
   "execution_count": null,
   "metadata": {
    "collapsed": false
   },
   "outputs": [],
   "source": [
    "#workspace();"
   ]
  },
  {
   "cell_type": "code",
   "execution_count": null,
   "metadata": {
    "collapsed": false
   },
   "outputs": [],
   "source": [
    "#include(\"poly_helper.jl\")\n",
    "#include(\"VerificationFunction.jl\")\n",
    "\n",
    "#num_points=2\n",
    "#cont_order = 3;\n",
    "#prob = random_poly_prob(num_points,cont_order);                                                                                     \n",
    "#params = PolyParams(cont_order);\n",
    "#sol = poly_smoothing(prob, params) \n",
    "#plot_poly(sol,1);\n",
    "#plot_poly_dim(sol,2,\"x\")\n",
    "#plot_poly_dim(sol,3,\"y\")\n",
    "\n",
    "#Max Velocity and Acceleration taken from what is used in pikachu launch files\n",
    "#Max Jerk guessed\n",
    "#verifyActuateablePath(sol, 2.0, 0.65, 2.0, 100000000000000.0);"
   ]
  },
  {
   "cell_type": "code",
   "execution_count": null,
   "metadata": {
    "collapsed": false
   },
   "outputs": [],
   "source": [
    "include(\"test.jl\")\n",
    "q_coeff = zeros(7); #This needs the degree of the polynomial to be fit which is 7 in this case\n",
    "q_coeff[1] = 0.0;\n",
    "q_coeff[2] = 0.0;\n",
    "q_coeff[3] = 1.0;\n",
    "q_coeff[4] = 0.0;\n",
    "#connect_points([Point(0.0,0.0,0.0,0.0);Point(0.0,0.0,0.0,0.0);Point(0.0,0.0,0.0,0.0)], \n",
    "#[Point(1.0,1.0,1.0,0.0);Point(0.0,0.0,0.0,0.0);Point(0.0,0.0,0.0,0.0)], q_coeff);\n",
    "    test_tester();"
   ]
  },
  {
   "cell_type": "code",
   "execution_count": null,
   "metadata": {
    "collapsed": true
   },
   "outputs": [],
   "source": []
  },
  {
   "cell_type": "code",
   "execution_count": null,
   "metadata": {
    "collapsed": true
   },
   "outputs": [],
   "source": []
  }
 ],
 "metadata": {
  "anaconda-cloud": {},
  "kernelspec": {
   "display_name": "Julia 0.5.0",
   "language": "julia",
   "name": "julia-0.5"
  },
  "language_info": {
   "file_extension": ".jl",
   "mimetype": "application/julia",
   "name": "julia",
   "version": "0.5.0"
  }
 },
 "nbformat": 4,
 "nbformat_minor": 1
}
